{
 "cells": [
  {
   "cell_type": "markdown",
   "id": "12251081",
   "metadata": {},
   "source": [
    "### Importing the Libraries"
   ]
  },
  {
   "cell_type": "code",
   "execution_count": 1,
   "id": "1a5c5000",
   "metadata": {},
   "outputs": [],
   "source": [
    "import pandas as pd\n",
    "import numpy as np\n",
    "import matplotlib.pyplot as plt\n",
    "from sklearn.model_selection import train_test_split"
   ]
  },
  {
   "cell_type": "markdown",
   "id": "3caed62f",
   "metadata": {},
   "source": [
    "### Defining the Model Class"
   ]
  },
  {
   "cell_type": "code",
   "execution_count": 2,
   "id": "997e802e",
   "metadata": {},
   "outputs": [],
   "source": [
    "class MyNaiveBayes:\n",
    "    def __init__(self):\n",
    "        pass\n",
    "    \n",
    "    def fit(self, X, Y):\n",
    "        self.outcome_probs = {}\n",
    "        self.feature_given_outcome = {}\n",
    "        \n",
    "        unique_features = {}\n",
    "        for feature in X.columns:\n",
    "            unique_features[feature] = X[feature].unique()\n",
    "        \n",
    "        outcome_counts = Y.value_counts()\n",
    "        \n",
    "        for outcome in outcome_counts.index:\n",
    "            self.outcome_probs[outcome] = outcome_counts[outcome] / outcome_counts.sum()\n",
    "            feature_given_outcome = {}\n",
    "            \n",
    "            for feature, uniques in unique_features.items():\n",
    "                X_ = X[feature][Y == outcome]\n",
    "                probs_given_feature = {}\n",
    "                \n",
    "                feature_counts = X_.value_counts()\n",
    "                \n",
    "                for inp_val in uniques:\n",
    "                    try:\n",
    "                        probs_given_feature[inp_val] = feature_counts[inp_val] / feature_counts.sum()\n",
    "                    except KeyError as e:\n",
    "                        probs_given_feature[inp_val] = 0.0\n",
    "                    \n",
    "                feature_given_outcome[feature] = probs_given_feature\n",
    "            \n",
    "            self.feature_given_outcome[outcome] = feature_given_outcome\n",
    "    \n",
    "    def predict(self, X):\n",
    "        Y_pred = pd.Series()\n",
    "        \n",
    "        for index in X.index:\n",
    "            feature_vec = X.loc[index]\n",
    "            max_prob = None\n",
    "            max_outcome = None\n",
    "            \n",
    "            for outcome, prob in self.outcome_probs.items():\n",
    "                prob = self.outcome_probs[outcome]\n",
    "                for feature in feature_vec.index:\n",
    "                    prob *= self.feature_given_outcome[outcome][feature][feature_vec[feature]]\n",
    "                \n",
    "                if max_prob is None or prob > max_prob:\n",
    "                    max_prob = prob\n",
    "                    max_outcome = outcome\n",
    "            \n",
    "            Y_pred[index] = max_outcome\n",
    "        \n",
    "        return Y_pred"
   ]
  },
  {
   "cell_type": "code",
   "execution_count": 3,
   "id": "6db1beac",
   "metadata": {},
   "outputs": [],
   "source": [
    "def accuracy(Y_true, Y_pred):\n",
    "    return sum(Y_true == Y_pred) / len(Y_true)"
   ]
  },
  {
   "cell_type": "markdown",
   "id": "508de051",
   "metadata": {},
   "source": [
    "### Data Importing and Splitting"
   ]
  },
  {
   "cell_type": "code",
   "execution_count": 4,
   "id": "751ca40c",
   "metadata": {},
   "outputs": [
    {
     "data": {
      "text/html": [
       "<div>\n",
       "<style scoped>\n",
       "    .dataframe tbody tr th:only-of-type {\n",
       "        vertical-align: middle;\n",
       "    }\n",
       "\n",
       "    .dataframe tbody tr th {\n",
       "        vertical-align: top;\n",
       "    }\n",
       "\n",
       "    .dataframe thead th {\n",
       "        text-align: right;\n",
       "    }\n",
       "</style>\n",
       "<table border=\"1\" class=\"dataframe\">\n",
       "  <thead>\n",
       "    <tr style=\"text-align: right;\">\n",
       "      <th></th>\n",
       "      <th>outlook</th>\n",
       "      <th>temp</th>\n",
       "      <th>humidity</th>\n",
       "      <th>windy</th>\n",
       "      <th>play</th>\n",
       "    </tr>\n",
       "  </thead>\n",
       "  <tbody>\n",
       "    <tr>\n",
       "      <th>0</th>\n",
       "      <td>sunny</td>\n",
       "      <td>hot</td>\n",
       "      <td>high</td>\n",
       "      <td>False</td>\n",
       "      <td>no</td>\n",
       "    </tr>\n",
       "    <tr>\n",
       "      <th>1</th>\n",
       "      <td>sunny</td>\n",
       "      <td>hot</td>\n",
       "      <td>high</td>\n",
       "      <td>True</td>\n",
       "      <td>no</td>\n",
       "    </tr>\n",
       "    <tr>\n",
       "      <th>2</th>\n",
       "      <td>overcast</td>\n",
       "      <td>hot</td>\n",
       "      <td>high</td>\n",
       "      <td>False</td>\n",
       "      <td>yes</td>\n",
       "    </tr>\n",
       "    <tr>\n",
       "      <th>3</th>\n",
       "      <td>rainy</td>\n",
       "      <td>mild</td>\n",
       "      <td>high</td>\n",
       "      <td>False</td>\n",
       "      <td>yes</td>\n",
       "    </tr>\n",
       "    <tr>\n",
       "      <th>4</th>\n",
       "      <td>rainy</td>\n",
       "      <td>cool</td>\n",
       "      <td>normal</td>\n",
       "      <td>False</td>\n",
       "      <td>yes</td>\n",
       "    </tr>\n",
       "  </tbody>\n",
       "</table>\n",
       "</div>"
      ],
      "text/plain": [
       "    outlook  temp humidity  windy play\n",
       "0     sunny   hot     high  False   no\n",
       "1     sunny   hot     high   True   no\n",
       "2  overcast   hot     high  False  yes\n",
       "3     rainy  mild     high  False  yes\n",
       "4     rainy  cool   normal  False  yes"
      ]
     },
     "execution_count": 4,
     "metadata": {},
     "output_type": "execute_result"
    }
   ],
   "source": [
    "df = pd.read_csv('tennis.csv')\n",
    "\n",
    "df.head()"
   ]
  },
  {
   "cell_type": "code",
   "execution_count": 5,
   "id": "76cbc040",
   "metadata": {
    "scrolled": true
   },
   "outputs": [],
   "source": [
    "df_train, df_test = train_test_split(df, test_size=0.2, stratify=df['play'], random_state=7)"
   ]
  },
  {
   "cell_type": "code",
   "execution_count": 6,
   "id": "16d27b29",
   "metadata": {},
   "outputs": [],
   "source": [
    "X_train, Y_train = df_train.drop('play', axis=1), df_train['play']\n",
    "X_test, Y_test = df_test.drop('play', axis=1), df_test['play']"
   ]
  },
  {
   "cell_type": "markdown",
   "id": "febd0175",
   "metadata": {},
   "source": [
    "### Running the Model and Computation of Accuracy"
   ]
  },
  {
   "cell_type": "code",
   "execution_count": 7,
   "id": "b3b47cb3",
   "metadata": {},
   "outputs": [],
   "source": [
    "model = MyNaiveBayes()\n",
    "model.fit(X_train, Y_train)"
   ]
  },
  {
   "cell_type": "code",
   "execution_count": 8,
   "id": "5cdc3d18",
   "metadata": {},
   "outputs": [
    {
     "name": "stdout",
     "output_type": "stream",
     "text": [
      "Training Accuracy: 81.82%\n"
     ]
    }
   ],
   "source": [
    "Y_pred = model.predict(X_train)\n",
    "\n",
    "print(\"Training Accuracy: {:.2f}%\".format(accuracy(Y_train, Y_pred) * 100))"
   ]
  },
  {
   "cell_type": "code",
   "execution_count": 9,
   "id": "5e4b1093",
   "metadata": {},
   "outputs": [
    {
     "name": "stdout",
     "output_type": "stream",
     "text": [
      "Testing Accuracy: 100.00%\n"
     ]
    }
   ],
   "source": [
    "Y_pred = model.predict(X_test)\n",
    "\n",
    "print(\"Testing Accuracy: {:.2f}%\".format(accuracy(Y_test, Y_pred) * 100))"
   ]
  },
  {
   "cell_type": "markdown",
   "id": "0fb3faae",
   "metadata": {},
   "source": [
    "### Data Preparation for SkLearn Model"
   ]
  },
  {
   "cell_type": "code",
   "execution_count": 10,
   "id": "15466de9",
   "metadata": {},
   "outputs": [],
   "source": [
    "replacement_values = {}\n",
    "for feature in df.columns:\n",
    "    categories = []\n",
    "    numeric = []\n",
    "    \n",
    "    for i, val in enumerate(df[feature].unique()):\n",
    "        categories.append(val)\n",
    "        numeric.append(i)\n",
    "    \n",
    "    replacement_values[feature] = (categories, numeric)"
   ]
  },
  {
   "cell_type": "code",
   "execution_count": 11,
   "id": "ea9f0b0a",
   "metadata": {},
   "outputs": [],
   "source": [
    "for feature in X_train.columns:\n",
    "    cat, num = replacement_values[feature]\n",
    "    X_train[feature].replace(cat, num, inplace=True)\n",
    "    X_test[feature].replace(cat, num, inplace=True)\n",
    "    \n",
    "feature = Y_train.name\n",
    "cat, num = replacement_values[feature]\n",
    "Y_train.replace(cat, num, inplace=True)\n",
    "Y_test.replace(cat, num, inplace=True)"
   ]
  },
  {
   "cell_type": "markdown",
   "id": "387f0a2e",
   "metadata": {},
   "source": [
    "### SkLearn Model Testing"
   ]
  },
  {
   "cell_type": "code",
   "execution_count": 12,
   "id": "040730d8",
   "metadata": {},
   "outputs": [],
   "source": [
    "from sklearn.naive_bayes import CategoricalNB\n",
    "from sklearn.metrics import accuracy_score"
   ]
  },
  {
   "cell_type": "code",
   "execution_count": 13,
   "id": "e947d81a",
   "metadata": {},
   "outputs": [
    {
     "data": {
      "text/html": [
       "<style>#sk-container-id-1 {color: black;}#sk-container-id-1 pre{padding: 0;}#sk-container-id-1 div.sk-toggleable {background-color: white;}#sk-container-id-1 label.sk-toggleable__label {cursor: pointer;display: block;width: 100%;margin-bottom: 0;padding: 0.3em;box-sizing: border-box;text-align: center;}#sk-container-id-1 label.sk-toggleable__label-arrow:before {content: \"▸\";float: left;margin-right: 0.25em;color: #696969;}#sk-container-id-1 label.sk-toggleable__label-arrow:hover:before {color: black;}#sk-container-id-1 div.sk-estimator:hover label.sk-toggleable__label-arrow:before {color: black;}#sk-container-id-1 div.sk-toggleable__content {max-height: 0;max-width: 0;overflow: hidden;text-align: left;background-color: #f0f8ff;}#sk-container-id-1 div.sk-toggleable__content pre {margin: 0.2em;color: black;border-radius: 0.25em;background-color: #f0f8ff;}#sk-container-id-1 input.sk-toggleable__control:checked~div.sk-toggleable__content {max-height: 200px;max-width: 100%;overflow: auto;}#sk-container-id-1 input.sk-toggleable__control:checked~label.sk-toggleable__label-arrow:before {content: \"▾\";}#sk-container-id-1 div.sk-estimator input.sk-toggleable__control:checked~label.sk-toggleable__label {background-color: #d4ebff;}#sk-container-id-1 div.sk-label input.sk-toggleable__control:checked~label.sk-toggleable__label {background-color: #d4ebff;}#sk-container-id-1 input.sk-hidden--visually {border: 0;clip: rect(1px 1px 1px 1px);clip: rect(1px, 1px, 1px, 1px);height: 1px;margin: -1px;overflow: hidden;padding: 0;position: absolute;width: 1px;}#sk-container-id-1 div.sk-estimator {font-family: monospace;background-color: #f0f8ff;border: 1px dotted black;border-radius: 0.25em;box-sizing: border-box;margin-bottom: 0.5em;}#sk-container-id-1 div.sk-estimator:hover {background-color: #d4ebff;}#sk-container-id-1 div.sk-parallel-item::after {content: \"\";width: 100%;border-bottom: 1px solid gray;flex-grow: 1;}#sk-container-id-1 div.sk-label:hover label.sk-toggleable__label {background-color: #d4ebff;}#sk-container-id-1 div.sk-serial::before {content: \"\";position: absolute;border-left: 1px solid gray;box-sizing: border-box;top: 0;bottom: 0;left: 50%;z-index: 0;}#sk-container-id-1 div.sk-serial {display: flex;flex-direction: column;align-items: center;background-color: white;padding-right: 0.2em;padding-left: 0.2em;position: relative;}#sk-container-id-1 div.sk-item {position: relative;z-index: 1;}#sk-container-id-1 div.sk-parallel {display: flex;align-items: stretch;justify-content: center;background-color: white;position: relative;}#sk-container-id-1 div.sk-item::before, #sk-container-id-1 div.sk-parallel-item::before {content: \"\";position: absolute;border-left: 1px solid gray;box-sizing: border-box;top: 0;bottom: 0;left: 50%;z-index: -1;}#sk-container-id-1 div.sk-parallel-item {display: flex;flex-direction: column;z-index: 1;position: relative;background-color: white;}#sk-container-id-1 div.sk-parallel-item:first-child::after {align-self: flex-end;width: 50%;}#sk-container-id-1 div.sk-parallel-item:last-child::after {align-self: flex-start;width: 50%;}#sk-container-id-1 div.sk-parallel-item:only-child::after {width: 0;}#sk-container-id-1 div.sk-dashed-wrapped {border: 1px dashed gray;margin: 0 0.4em 0.5em 0.4em;box-sizing: border-box;padding-bottom: 0.4em;background-color: white;}#sk-container-id-1 div.sk-label label {font-family: monospace;font-weight: bold;display: inline-block;line-height: 1.2em;}#sk-container-id-1 div.sk-label-container {text-align: center;}#sk-container-id-1 div.sk-container {/* jupyter's `normalize.less` sets `[hidden] { display: none; }` but bootstrap.min.css set `[hidden] { display: none !important; }` so we also need the `!important` here to be able to override the default hidden behavior on the sphinx rendered scikit-learn.org. See: https://github.com/scikit-learn/scikit-learn/issues/21755 */display: inline-block !important;position: relative;}#sk-container-id-1 div.sk-text-repr-fallback {display: none;}</style><div id=\"sk-container-id-1\" class=\"sk-top-container\"><div class=\"sk-text-repr-fallback\"><pre>CategoricalNB()</pre><b>In a Jupyter environment, please rerun this cell to show the HTML representation or trust the notebook. <br />On GitHub, the HTML representation is unable to render, please try loading this page with nbviewer.org.</b></div><div class=\"sk-container\" hidden><div class=\"sk-item\"><div class=\"sk-estimator sk-toggleable\"><input class=\"sk-toggleable__control sk-hidden--visually\" id=\"sk-estimator-id-1\" type=\"checkbox\" checked><label for=\"sk-estimator-id-1\" class=\"sk-toggleable__label sk-toggleable__label-arrow\">CategoricalNB</label><div class=\"sk-toggleable__content\"><pre>CategoricalNB()</pre></div></div></div></div></div>"
      ],
      "text/plain": [
       "CategoricalNB()"
      ]
     },
     "execution_count": 13,
     "metadata": {},
     "output_type": "execute_result"
    }
   ],
   "source": [
    "model = CategoricalNB()\n",
    "model.fit(X_train, Y_train)"
   ]
  },
  {
   "cell_type": "code",
   "execution_count": 14,
   "id": "d6b1f12f",
   "metadata": {},
   "outputs": [
    {
     "name": "stdout",
     "output_type": "stream",
     "text": [
      "Training Accuracy: 81.82%\n"
     ]
    }
   ],
   "source": [
    "Y_pred = model.predict(X_train)\n",
    "\n",
    "print(\"Training Accuracy: {:.2f}%\".format(accuracy_score(Y_train, Y_pred) * 100))"
   ]
  },
  {
   "cell_type": "code",
   "execution_count": 15,
   "id": "3b860117",
   "metadata": {},
   "outputs": [
    {
     "name": "stdout",
     "output_type": "stream",
     "text": [
      "Testing Accuracy: 100.00%\n"
     ]
    }
   ],
   "source": [
    "Y_pred = model.predict(X_test)\n",
    "\n",
    "print(\"Testing Accuracy: {:.2f}%\".format(accuracy_score(Y_test, Y_pred) * 100))"
   ]
  },
  {
   "cell_type": "code",
   "execution_count": null,
   "id": "2e84d3ab",
   "metadata": {},
   "outputs": [],
   "source": []
  }
 ],
 "metadata": {
  "kernelspec": {
   "display_name": "Python 3 (ipykernel)",
   "language": "python",
   "name": "python3"
  },
  "language_info": {
   "codemirror_mode": {
    "name": "ipython",
    "version": 3
   },
   "file_extension": ".py",
   "mimetype": "text/x-python",
   "name": "python",
   "nbconvert_exporter": "python",
   "pygments_lexer": "ipython3",
   "version": "3.10.13"
  }
 },
 "nbformat": 4,
 "nbformat_minor": 5
}
