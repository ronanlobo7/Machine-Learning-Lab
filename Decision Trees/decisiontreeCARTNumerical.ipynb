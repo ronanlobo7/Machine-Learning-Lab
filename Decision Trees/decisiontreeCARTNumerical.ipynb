{
 "cells": [
  {
   "cell_type": "markdown",
   "id": "918e324d",
   "metadata": {},
   "source": [
    "### Importing the Libraries"
   ]
  },
  {
   "cell_type": "code",
   "execution_count": 1,
   "id": "07cbfcc2",
   "metadata": {},
   "outputs": [],
   "source": [
    "import numpy as np\n",
    "import pandas as pd"
   ]
  },
  {
   "cell_type": "markdown",
   "id": "1e0f84bb",
   "metadata": {},
   "source": [
    "### Model Definition"
   ]
  },
  {
   "cell_type": "code",
   "execution_count": 2,
   "id": "8688dabe",
   "metadata": {},
   "outputs": [],
   "source": [
    "class DecisionTree:\n",
    "    class Node:\n",
    "        def __init__(self, leaf=False, prop=None, left=None, right=None, val=None, gini=None):\n",
    "            self.leaf = leaf\n",
    "            self.prop = prop\n",
    "            self.left = left\n",
    "            self.right = right\n",
    "            self.val = val\n",
    "            self.gini = gini\n",
    "    \n",
    "    def __init__(self):\n",
    "        self.root = None\n",
    "    \n",
    "    def fit(self, X, Y):\n",
    "        self.root = self.buildrec(X, Y)\n",
    "        \n",
    "    def gini(self, Y):\n",
    "        n = len(Y)\n",
    "        counts = Y.value_counts()\n",
    "        val = 1.0\n",
    "        for c in counts.values:\n",
    "            tmp = c / n\n",
    "            val -= tmp ** 2\n",
    "        \n",
    "        return val\n",
    "    \n",
    "    def buildrec(self, X, Y):\n",
    "        uniques = Y.unique()\n",
    "        if len(uniques) == 1:\n",
    "            return self.Node(leaf=True, val=uniques[0], gini=0.0)\n",
    "        \n",
    "        least_feature = None\n",
    "        least_split = None\n",
    "        least_gini = None\n",
    "        \n",
    "        for feature in X.columns:\n",
    "            gini = 0.0\n",
    "            vals = X[feature].unique()\n",
    "            vals = np.sort(vals)\n",
    "            n = len(vals)\n",
    "            \n",
    "            for i in range(n-1):\n",
    "                splitval = (vals[i+1] + vals[i]) / 2\n",
    "                \n",
    "                ind = X[feature] <= splitval\n",
    "                not_ind = np.invert(ind)\n",
    "                \n",
    "                YT_, YF_ = Y[ind], Y[not_ind]\n",
    "                \n",
    "                gini = (len(YT_) / len(Y)) * self.gini(YT_) + (len(YF_) / len(Y)) * self.gini(YF_)\n",
    "\n",
    "                if least_feature is None or gini < least_gini:\n",
    "                    least_feature = feature\n",
    "                    least_split = splitval\n",
    "                    least_gini = gini\n",
    "        \n",
    "        ind = X[least_feature] <= least_split\n",
    "        not_ind = np.invert(ind)\n",
    "        XT_, XF_ = X[ind], X[not_ind]\n",
    "        YT_, YF_ = Y[ind], Y[not_ind]\n",
    "            \n",
    "        path = []\n",
    "        left = self.buildrec(XT_, YT_)\n",
    "        right = self.buildrec(XF_, YF_)\n",
    "            \n",
    "        return self.Node(leaf=False, prop=least_feature, left=left, right=right, val=least_split, gini=self.gini(Y))\n",
    "    \n",
    "    def predict(self, X):\n",
    "        Y_pred = pd.Series()\n",
    "        \n",
    "        for i, x in X.iterrows():\n",
    "            curr = self.root\n",
    "            \n",
    "            while curr.leaf is False:\n",
    "                if x[curr.prop] <= curr.val:\n",
    "                    curr = curr.left\n",
    "                else:\n",
    "                    curr = curr.right\n",
    "            \n",
    "            Y_pred.loc[i] = curr.val \n",
    "        \n",
    "        return Y_pred\n",
    "    \n",
    "    def printtree(self):\n",
    "        self.printrec(self.root, 0)\n",
    "        \n",
    "    def printrec(self, root, level):\n",
    "        print('   ' * level, end='')\n",
    "        if root.leaf is True:\n",
    "            print(root.val)\n",
    "        else:\n",
    "            print('%s <= %.2f (Gini: %.2f):' % (root.prop, root.val, root.gini))\n",
    "            print('   ' * (level+1) + 'True' + ':')\n",
    "            self.printrec(root.left, level+2)\n",
    "            print('   ' * (level+1) + 'False' + ':')\n",
    "            self.printrec(root.right, level+2) "
   ]
  },
  {
   "cell_type": "markdown",
   "id": "d070e2f7",
   "metadata": {},
   "source": [
    "### Dataset Loading"
   ]
  },
  {
   "cell_type": "code",
   "execution_count": 3,
   "id": "cb8c81d8",
   "metadata": {},
   "outputs": [
    {
     "data": {
      "text/html": [
       "<div>\n",
       "<style scoped>\n",
       "    .dataframe tbody tr th:only-of-type {\n",
       "        vertical-align: middle;\n",
       "    }\n",
       "\n",
       "    .dataframe tbody tr th {\n",
       "        vertical-align: top;\n",
       "    }\n",
       "\n",
       "    .dataframe thead th {\n",
       "        text-align: right;\n",
       "    }\n",
       "</style>\n",
       "<table border=\"1\" class=\"dataframe\">\n",
       "  <thead>\n",
       "    <tr style=\"text-align: right;\">\n",
       "      <th></th>\n",
       "      <th>Outlook</th>\n",
       "      <th>Temp.</th>\n",
       "      <th>Humidity</th>\n",
       "      <th>Wind</th>\n",
       "      <th>Decision</th>\n",
       "    </tr>\n",
       "  </thead>\n",
       "  <tbody>\n",
       "    <tr>\n",
       "      <th>0</th>\n",
       "      <td>Sunny</td>\n",
       "      <td>Hot</td>\n",
       "      <td>High</td>\n",
       "      <td>Weak</td>\n",
       "      <td>No</td>\n",
       "    </tr>\n",
       "    <tr>\n",
       "      <th>1</th>\n",
       "      <td>Sunny</td>\n",
       "      <td>Hot</td>\n",
       "      <td>High</td>\n",
       "      <td>Strong</td>\n",
       "      <td>No</td>\n",
       "    </tr>\n",
       "    <tr>\n",
       "      <th>2</th>\n",
       "      <td>Overcast</td>\n",
       "      <td>Hot</td>\n",
       "      <td>High</td>\n",
       "      <td>Weak</td>\n",
       "      <td>Yes</td>\n",
       "    </tr>\n",
       "    <tr>\n",
       "      <th>3</th>\n",
       "      <td>Rain</td>\n",
       "      <td>Mild</td>\n",
       "      <td>High</td>\n",
       "      <td>Weak</td>\n",
       "      <td>Yes</td>\n",
       "    </tr>\n",
       "    <tr>\n",
       "      <th>4</th>\n",
       "      <td>Rain</td>\n",
       "      <td>Cool</td>\n",
       "      <td>Normal</td>\n",
       "      <td>Weak</td>\n",
       "      <td>Yes</td>\n",
       "    </tr>\n",
       "  </tbody>\n",
       "</table>\n",
       "</div>"
      ],
      "text/plain": [
       "    Outlook Temp. Humidity    Wind Decision\n",
       "0     Sunny   Hot     High    Weak       No\n",
       "1     Sunny   Hot     High  Strong       No\n",
       "2  Overcast   Hot     High    Weak      Yes\n",
       "3      Rain  Mild     High    Weak      Yes\n",
       "4      Rain  Cool   Normal    Weak      Yes"
      ]
     },
     "execution_count": 3,
     "metadata": {},
     "output_type": "execute_result"
    }
   ],
   "source": [
    "df = pd.read_csv('dataset.csv')\n",
    "\n",
    "df.head()"
   ]
  },
  {
   "cell_type": "markdown",
   "id": "5f23f16f",
   "metadata": {},
   "source": [
    "### Preparing the Dataset for Training"
   ]
  },
  {
   "cell_type": "code",
   "execution_count": 4,
   "id": "642e3951",
   "metadata": {},
   "outputs": [],
   "source": [
    "df_copy = df.copy()"
   ]
  },
  {
   "cell_type": "code",
   "execution_count": 5,
   "id": "c7e9dafd",
   "metadata": {},
   "outputs": [
    {
     "data": {
      "text/html": [
       "<div>\n",
       "<style scoped>\n",
       "    .dataframe tbody tr th:only-of-type {\n",
       "        vertical-align: middle;\n",
       "    }\n",
       "\n",
       "    .dataframe tbody tr th {\n",
       "        vertical-align: top;\n",
       "    }\n",
       "\n",
       "    .dataframe thead th {\n",
       "        text-align: right;\n",
       "    }\n",
       "</style>\n",
       "<table border=\"1\" class=\"dataframe\">\n",
       "  <thead>\n",
       "    <tr style=\"text-align: right;\">\n",
       "      <th></th>\n",
       "      <th>Outlook</th>\n",
       "      <th>Temp.</th>\n",
       "      <th>Humidity</th>\n",
       "      <th>Wind</th>\n",
       "      <th>Decision</th>\n",
       "    </tr>\n",
       "  </thead>\n",
       "  <tbody>\n",
       "    <tr>\n",
       "      <th>0</th>\n",
       "      <td>0</td>\n",
       "      <td>0</td>\n",
       "      <td>0</td>\n",
       "      <td>0</td>\n",
       "      <td>0</td>\n",
       "    </tr>\n",
       "    <tr>\n",
       "      <th>1</th>\n",
       "      <td>0</td>\n",
       "      <td>0</td>\n",
       "      <td>0</td>\n",
       "      <td>1</td>\n",
       "      <td>0</td>\n",
       "    </tr>\n",
       "    <tr>\n",
       "      <th>2</th>\n",
       "      <td>1</td>\n",
       "      <td>0</td>\n",
       "      <td>0</td>\n",
       "      <td>0</td>\n",
       "      <td>1</td>\n",
       "    </tr>\n",
       "    <tr>\n",
       "      <th>3</th>\n",
       "      <td>2</td>\n",
       "      <td>1</td>\n",
       "      <td>0</td>\n",
       "      <td>0</td>\n",
       "      <td>1</td>\n",
       "    </tr>\n",
       "    <tr>\n",
       "      <th>4</th>\n",
       "      <td>2</td>\n",
       "      <td>2</td>\n",
       "      <td>1</td>\n",
       "      <td>0</td>\n",
       "      <td>1</td>\n",
       "    </tr>\n",
       "  </tbody>\n",
       "</table>\n",
       "</div>"
      ],
      "text/plain": [
       "   Outlook  Temp.  Humidity  Wind  Decision\n",
       "0        0      0         0     0         0\n",
       "1        0      0         0     1         0\n",
       "2        1      0         0     0         1\n",
       "3        2      1         0     0         1\n",
       "4        2      2         1     0         1"
      ]
     },
     "execution_count": 5,
     "metadata": {},
     "output_type": "execute_result"
    }
   ],
   "source": [
    "mappers = {}\n",
    "rev_mappers = {}\n",
    "for col in df_copy.columns:\n",
    "    if df[col].dtype == 'object':\n",
    "        mapper = {}\n",
    "        rev_mapper = {}\n",
    "        for i, unq in enumerate(df_copy[col].unique()):\n",
    "            mapper[unq] = i\n",
    "            rev_mapper[i] = unq\n",
    "        df_copy[col] = df_copy[col].map(mapper)\n",
    "        mappers[col] = mapper\n",
    "        rev_mappers[col] = rev_mapper\n",
    "    \n",
    "df_copy.head()"
   ]
  },
  {
   "cell_type": "code",
   "execution_count": 6,
   "id": "a51029c6",
   "metadata": {},
   "outputs": [],
   "source": [
    "X_train, Y_train = df_copy.drop('Decision', axis=1), df_copy['Decision']"
   ]
  },
  {
   "cell_type": "markdown",
   "id": "4883e4a8",
   "metadata": {},
   "source": [
    "### Train the model and Display the tree"
   ]
  },
  {
   "cell_type": "code",
   "execution_count": 7,
   "id": "6ff21ea4",
   "metadata": {
    "scrolled": true
   },
   "outputs": [],
   "source": [
    "model = DecisionTree()\n",
    "\n",
    "model.fit(X_train, Y_train)"
   ]
  },
  {
   "cell_type": "code",
   "execution_count": 8,
   "id": "67395e03",
   "metadata": {},
   "outputs": [
    {
     "name": "stdout",
     "output_type": "stream",
     "text": [
      "Humidity <= 0.50 (Gini: 0.46):\n",
      "   True:\n",
      "      Outlook <= 0.50 (Gini: 0.49):\n",
      "         True:\n",
      "            0\n",
      "         False:\n",
      "            Outlook <= 1.50 (Gini: 0.38):\n",
      "               True:\n",
      "                  1\n",
      "               False:\n",
      "                  Wind <= 0.50 (Gini: 0.50):\n",
      "                     True:\n",
      "                        1\n",
      "                     False:\n",
      "                        0\n",
      "   False:\n",
      "      Outlook <= 1.50 (Gini: 0.24):\n",
      "         True:\n",
      "            1\n",
      "         False:\n",
      "            Wind <= 0.50 (Gini: 0.44):\n",
      "               True:\n",
      "                  1\n",
      "               False:\n",
      "                  0\n"
     ]
    }
   ],
   "source": [
    "model.printtree()"
   ]
  },
  {
   "cell_type": "markdown",
   "id": "a2a26478",
   "metadata": {},
   "source": [
    "### Define the Testing Dataset"
   ]
  },
  {
   "cell_type": "code",
   "execution_count": 9,
   "id": "0a125202",
   "metadata": {},
   "outputs": [
    {
     "data": {
      "text/html": [
       "<div>\n",
       "<style scoped>\n",
       "    .dataframe tbody tr th:only-of-type {\n",
       "        vertical-align: middle;\n",
       "    }\n",
       "\n",
       "    .dataframe tbody tr th {\n",
       "        vertical-align: top;\n",
       "    }\n",
       "\n",
       "    .dataframe thead th {\n",
       "        text-align: right;\n",
       "    }\n",
       "</style>\n",
       "<table border=\"1\" class=\"dataframe\">\n",
       "  <thead>\n",
       "    <tr style=\"text-align: right;\">\n",
       "      <th></th>\n",
       "      <th>Outlook</th>\n",
       "      <th>Temp.</th>\n",
       "      <th>Humidity</th>\n",
       "      <th>Wind</th>\n",
       "    </tr>\n",
       "  </thead>\n",
       "  <tbody>\n",
       "    <tr>\n",
       "      <th>0</th>\n",
       "      <td>Sunny</td>\n",
       "      <td>Mild</td>\n",
       "      <td>High</td>\n",
       "      <td>Weak</td>\n",
       "    </tr>\n",
       "    <tr>\n",
       "      <th>1</th>\n",
       "      <td>Overcast</td>\n",
       "      <td>Cool</td>\n",
       "      <td>Normal</td>\n",
       "      <td>Strong</td>\n",
       "    </tr>\n",
       "  </tbody>\n",
       "</table>\n",
       "</div>"
      ],
      "text/plain": [
       "    Outlook Temp. Humidity    Wind\n",
       "0     Sunny  Mild     High    Weak\n",
       "1  Overcast  Cool   Normal  Strong"
      ]
     },
     "execution_count": 9,
     "metadata": {},
     "output_type": "execute_result"
    }
   ],
   "source": [
    "X_test = pd.DataFrame({'Outlook': ['Sunny', 'Overcast'],\n",
    "                       'Temp.': ['Mild', 'Cool'],\n",
    "                       'Humidity': ['High', 'Normal'],\n",
    "                       'Wind': ['Weak', 'Strong']})\n",
    "\n",
    "X_test"
   ]
  },
  {
   "cell_type": "code",
   "execution_count": 10,
   "id": "746f28c8",
   "metadata": {},
   "outputs": [],
   "source": [
    "X_test_num = X_test.copy()"
   ]
  },
  {
   "cell_type": "code",
   "execution_count": 11,
   "id": "8745741a",
   "metadata": {},
   "outputs": [],
   "source": [
    "for col in X_test_num:\n",
    "    X_test_num[col] = X_test_num[col].map(mappers[col])"
   ]
  },
  {
   "cell_type": "code",
   "execution_count": 12,
   "id": "13d9a703",
   "metadata": {
    "scrolled": true
   },
   "outputs": [
    {
     "data": {
      "text/html": [
       "<div>\n",
       "<style scoped>\n",
       "    .dataframe tbody tr th:only-of-type {\n",
       "        vertical-align: middle;\n",
       "    }\n",
       "\n",
       "    .dataframe tbody tr th {\n",
       "        vertical-align: top;\n",
       "    }\n",
       "\n",
       "    .dataframe thead th {\n",
       "        text-align: right;\n",
       "    }\n",
       "</style>\n",
       "<table border=\"1\" class=\"dataframe\">\n",
       "  <thead>\n",
       "    <tr style=\"text-align: right;\">\n",
       "      <th></th>\n",
       "      <th>Outlook</th>\n",
       "      <th>Temp.</th>\n",
       "      <th>Humidity</th>\n",
       "      <th>Wind</th>\n",
       "    </tr>\n",
       "  </thead>\n",
       "  <tbody>\n",
       "    <tr>\n",
       "      <th>0</th>\n",
       "      <td>0</td>\n",
       "      <td>1</td>\n",
       "      <td>0</td>\n",
       "      <td>0</td>\n",
       "    </tr>\n",
       "    <tr>\n",
       "      <th>1</th>\n",
       "      <td>1</td>\n",
       "      <td>2</td>\n",
       "      <td>1</td>\n",
       "      <td>1</td>\n",
       "    </tr>\n",
       "  </tbody>\n",
       "</table>\n",
       "</div>"
      ],
      "text/plain": [
       "   Outlook  Temp.  Humidity  Wind\n",
       "0        0      1         0     0\n",
       "1        1      2         1     1"
      ]
     },
     "execution_count": 12,
     "metadata": {},
     "output_type": "execute_result"
    }
   ],
   "source": [
    "X_test_num"
   ]
  },
  {
   "cell_type": "markdown",
   "id": "ad8d5717",
   "metadata": {},
   "source": [
    "### Predict the Outcomes"
   ]
  },
  {
   "cell_type": "code",
   "execution_count": 13,
   "id": "8e99bb6d",
   "metadata": {},
   "outputs": [],
   "source": [
    "Y_pred = model.predict(X_test_num)"
   ]
  },
  {
   "cell_type": "code",
   "execution_count": 14,
   "id": "168ce422",
   "metadata": {},
   "outputs": [
    {
     "name": "stdout",
     "output_type": "stream",
     "text": [
      "Predictions by the Decision Tree Classifier:\n"
     ]
    },
    {
     "data": {
      "text/html": [
       "<div>\n",
       "<style scoped>\n",
       "    .dataframe tbody tr th:only-of-type {\n",
       "        vertical-align: middle;\n",
       "    }\n",
       "\n",
       "    .dataframe tbody tr th {\n",
       "        vertical-align: top;\n",
       "    }\n",
       "\n",
       "    .dataframe thead th {\n",
       "        text-align: right;\n",
       "    }\n",
       "</style>\n",
       "<table border=\"1\" class=\"dataframe\">\n",
       "  <thead>\n",
       "    <tr style=\"text-align: right;\">\n",
       "      <th></th>\n",
       "      <th>Outlook</th>\n",
       "      <th>Temp.</th>\n",
       "      <th>Humidity</th>\n",
       "      <th>Wind</th>\n",
       "      <th>Decision</th>\n",
       "    </tr>\n",
       "  </thead>\n",
       "  <tbody>\n",
       "    <tr>\n",
       "      <th>0</th>\n",
       "      <td>Sunny</td>\n",
       "      <td>Mild</td>\n",
       "      <td>High</td>\n",
       "      <td>Weak</td>\n",
       "      <td>No</td>\n",
       "    </tr>\n",
       "    <tr>\n",
       "      <th>1</th>\n",
       "      <td>Overcast</td>\n",
       "      <td>Cool</td>\n",
       "      <td>Normal</td>\n",
       "      <td>Strong</td>\n",
       "      <td>Yes</td>\n",
       "    </tr>\n",
       "  </tbody>\n",
       "</table>\n",
       "</div>"
      ],
      "text/plain": [
       "    Outlook Temp. Humidity    Wind Decision\n",
       "0     Sunny  Mild     High    Weak       No\n",
       "1  Overcast  Cool   Normal  Strong      Yes"
      ]
     },
     "execution_count": 14,
     "metadata": {},
     "output_type": "execute_result"
    }
   ],
   "source": [
    "print('Predictions by the Decision Tree Classifier:')\n",
    "X_test.assign(Decision=Y_pred.map(rev_mappers['Decision']))"
   ]
  }
 ],
 "metadata": {
  "kernelspec": {
   "display_name": "Python 3 (ipykernel)",
   "language": "python",
   "name": "python3"
  },
  "language_info": {
   "codemirror_mode": {
    "name": "ipython",
    "version": 3
   },
   "file_extension": ".py",
   "mimetype": "text/x-python",
   "name": "python",
   "nbconvert_exporter": "python",
   "pygments_lexer": "ipython3",
   "version": "3.10.13"
  }
 },
 "nbformat": 4,
 "nbformat_minor": 5
}
