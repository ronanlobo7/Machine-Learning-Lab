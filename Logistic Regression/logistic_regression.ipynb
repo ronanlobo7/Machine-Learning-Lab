{
 "cells": [
  {
   "cell_type": "markdown",
   "id": "2a5942d6",
   "metadata": {},
   "source": [
    "### Importing the Libraries"
   ]
  },
  {
   "cell_type": "code",
   "execution_count": 1,
   "id": "0aeccad2",
   "metadata": {},
   "outputs": [],
   "source": [
    "import numpy as np\n",
    "import pandas as pd\n",
    "import matplotlib.pyplot as plt\n",
    "from sklearn.model_selection import train_test_split"
   ]
  },
  {
   "cell_type": "markdown",
   "id": "ceb95e37",
   "metadata": {},
   "source": [
    "### Model and Function Definitions"
   ]
  },
  {
   "cell_type": "code",
   "execution_count": 2,
   "id": "a3fc6412",
   "metadata": {},
   "outputs": [],
   "source": [
    "class LogisticRegression:\n",
    "    def __init__(self):\n",
    "        pass\n",
    "    \n",
    "    def fit(self, X, Y, alpha=0.1, epochs=10):\n",
    "        X_ = np.ones((X.shape[0], X.shape[1]+1))\n",
    "        X_[:, 1:] = X\n",
    "        self.b = np.zeros((X_.shape[1]))\n",
    "        \n",
    "        for i in range(epochs):\n",
    "            Z = np.dot(X_, self.b.T).reshape(-1, 1)\n",
    "            Y_ = 1 / (1 + np.exp(-Z))\n",
    "            grad = (Y - Y_) * Y_ * (1 - Y_) * X_\n",
    "            self.b = self.b + alpha * np.mean(grad, axis=0)\n",
    "            \n",
    "    def predict(self, X):\n",
    "        Y_ = self.probs(X)\n",
    "        return np.array(Y_ > 0.5, dtype=np.uint8)\n",
    "    \n",
    "    def probs(self, X):\n",
    "        X_ = np.ones((X.shape[0], X.shape[1]+1))\n",
    "        X_[:, 1:] = X\n",
    "        Z = np.dot(X_, self.b.T).reshape(-1, 1)\n",
    "        Y_ = 1 / (1 + np.exp(-Z))\n",
    "        return Y_"
   ]
  },
  {
   "cell_type": "code",
   "execution_count": 3,
   "id": "1dfadfd7",
   "metadata": {},
   "outputs": [],
   "source": [
    "def accuracy(Y, Y_pred):\n",
    "    return np.sum(np.array(Y == Y_pred, dtype=np.uint8)) / len(Y)"
   ]
  },
  {
   "cell_type": "markdown",
   "id": "721ca3f4",
   "metadata": {},
   "source": [
    "### Read Input Data"
   ]
  },
  {
   "cell_type": "code",
   "execution_count": 4,
   "id": "7f2b8504",
   "metadata": {
    "scrolled": true
   },
   "outputs": [
    {
     "data": {
      "text/html": [
       "<div>\n",
       "<style scoped>\n",
       "    .dataframe tbody tr th:only-of-type {\n",
       "        vertical-align: middle;\n",
       "    }\n",
       "\n",
       "    .dataframe tbody tr th {\n",
       "        vertical-align: top;\n",
       "    }\n",
       "\n",
       "    .dataframe thead th {\n",
       "        text-align: right;\n",
       "    }\n",
       "</style>\n",
       "<table border=\"1\" class=\"dataframe\">\n",
       "  <thead>\n",
       "    <tr style=\"text-align: right;\">\n",
       "      <th></th>\n",
       "      <th>X1</th>\n",
       "      <th>X2</th>\n",
       "      <th>Y</th>\n",
       "    </tr>\n",
       "  </thead>\n",
       "  <tbody>\n",
       "    <tr>\n",
       "      <th>0</th>\n",
       "      <td>2.781084</td>\n",
       "      <td>2.550537</td>\n",
       "      <td>0</td>\n",
       "    </tr>\n",
       "    <tr>\n",
       "      <th>1</th>\n",
       "      <td>1.465489</td>\n",
       "      <td>2.362125</td>\n",
       "      <td>0</td>\n",
       "    </tr>\n",
       "    <tr>\n",
       "      <th>2</th>\n",
       "      <td>3.396562</td>\n",
       "      <td>4.400294</td>\n",
       "      <td>0</td>\n",
       "    </tr>\n",
       "    <tr>\n",
       "      <th>3</th>\n",
       "      <td>1.388070</td>\n",
       "      <td>1.850220</td>\n",
       "      <td>0</td>\n",
       "    </tr>\n",
       "    <tr>\n",
       "      <th>4</th>\n",
       "      <td>3.064072</td>\n",
       "      <td>3.005306</td>\n",
       "      <td>0</td>\n",
       "    </tr>\n",
       "  </tbody>\n",
       "</table>\n",
       "</div>"
      ],
      "text/plain": [
       "         X1        X2  Y\n",
       "0  2.781084  2.550537  0\n",
       "1  1.465489  2.362125  0\n",
       "2  3.396562  4.400294  0\n",
       "3  1.388070  1.850220  0\n",
       "4  3.064072  3.005306  0"
      ]
     },
     "execution_count": 4,
     "metadata": {},
     "output_type": "execute_result"
    }
   ],
   "source": [
    "df = pd.read_csv('dataset.csv')\n",
    "\n",
    "df.head()"
   ]
  },
  {
   "cell_type": "markdown",
   "id": "58a5a597",
   "metadata": {},
   "source": [
    "### Single Variable Logistic Regression"
   ]
  },
  {
   "cell_type": "code",
   "execution_count": 5,
   "id": "95f91b83",
   "metadata": {},
   "outputs": [],
   "source": [
    "df_train, df_test = train_test_split(df[['X1', 'Y']], test_size=0.4, stratify=df['Y'])"
   ]
  },
  {
   "cell_type": "code",
   "execution_count": 6,
   "id": "1b75d918",
   "metadata": {},
   "outputs": [
    {
     "data": {
      "image/png": "[encoded data removed]",
      "text/plain": [
       "<Figure size 800x100 with 1 Axes>"
      ]
     },
     "metadata": {},
     "output_type": "display_data"
    }
   ],
   "source": [
    "plt.figure(figsize=(8, 1))\n",
    "plt.scatter(df_train['X1'], [0] * len(df_train['X1']), c=df_train['Y'], cmap=plt.cm.RdBu)\n",
    "plt.scatter(df_test['X1'], [0] * len(df_test['X1']), marker='*', label='Testing Points')\n",
    "plt.title('Data Visualized')\n",
    "plt.xlabel('X1')\n",
    "plt.yticks([])\n",
    "plt.legend()\n",
    "plt.show()"
   ]
  },
  {
   "cell_type": "code",
   "execution_count": 7,
   "id": "86dde992",
   "metadata": {},
   "outputs": [],
   "source": [
    "X_train, Y_train = df_train[['X1']].values, df_train[['Y']].values\n",
    "X_test, Y_test = df_test[['X1']].values, df_test[['Y']].values"
   ]
  },
  {
   "cell_type": "code",
   "execution_count": 8,
   "id": "3b4df926",
   "metadata": {},
   "outputs": [],
   "source": [
    "model = LogisticRegression()\n",
    "model.fit(X_train, Y_train, alpha=0.2, epochs=50)"
   ]
  },
  {
   "cell_type": "code",
   "execution_count": 9,
   "id": "65a4c3af",
   "metadata": {},
   "outputs": [],
   "source": [
    "Y_pred = model.predict(X_test)"
   ]
  },
  {
   "cell_type": "code",
   "execution_count": 10,
   "id": "7bbf3a20",
   "metadata": {},
   "outputs": [
    {
     "name": "stdout",
     "output_type": "stream",
     "text": [
      "Accuracy: 0.75\n"
     ]
    }
   ],
   "source": [
    "print(f\"Accuracy: {accuracy(Y_test, Y_pred)}\")"
   ]
  },
  {
   "cell_type": "code",
   "execution_count": 11,
   "id": "b98eefef",
   "metadata": {},
   "outputs": [],
   "source": [
    "x_min, x_max = df['X1'].min() - 1, df['X1'].max() + 1\n",
    "y_min, y_max = -1, 1\n",
    "xx, yy = np.meshgrid(np.linspace(x_min, x_max), np.linspace(y_min, y_max))\n",
    "xx_test = np.c_[xx.ravel()]\n",
    "Z = model.probs(xx_test)\n",
    "Z = Z.reshape(xx.shape)"
   ]
  },
  {
   "cell_type": "code",
   "execution_count": 12,
   "id": "7c9e5955",
   "metadata": {},
   "outputs": [
    {
     "data": {
      "image/png": "[encoded data removed]",
      "text/plain": [
       "<Figure size 800x100 with 1 Axes>"
      ]
     },
     "metadata": {},
     "output_type": "display_data"
    }
   ],
   "source": [
    "plt.figure(figsize=(8, 1))\n",
    "plt.scatter(df_train['X1'], [0] * len(df_train['X1']), c=df_train['Y'], cmap=plt.cm.RdBu)\n",
    "plt.contourf(xx, yy, Z, cmap=plt.cm.RdBu, alpha=0.25)\n",
    "plt.title('Logistic Regression Decision Boundary')\n",
    "plt.xlabel('X1')\n",
    "plt.yticks([])\n",
    "plt.show()"
   ]
  },
  {
   "cell_type": "markdown",
   "id": "eeaf5f01",
   "metadata": {},
   "source": [
    "### Two Variable Logistic Regression"
   ]
  },
  {
   "cell_type": "code",
   "execution_count": 13,
   "id": "1fb175b3",
   "metadata": {},
   "outputs": [],
   "source": [
    "df_train, df_test = train_test_split(df, test_size=0.4, stratify=df['Y'])"
   ]
  },
  {
   "cell_type": "code",
   "execution_count": 14,
   "id": "e119974a",
   "metadata": {},
   "outputs": [
    {
     "data": {
      "image/png": "[encoded data removed]",
      "text/plain": [
       "<Figure size 640x480 with 1 Axes>"
      ]
     },
     "metadata": {},
     "output_type": "display_data"
    }
   ],
   "source": [
    "plt.scatter(df_train['X1'], df_train['X2'], marker='o', c=df_train['Y'])\n",
    "plt.scatter(df_test['X1'], df_test['X2'], marker='*', label='Testing Points')\n",
    "plt.title('Data Visualized')\n",
    "plt.xlabel('X1')\n",
    "plt.ylabel('X2')\n",
    "plt.legend()\n",
    "plt.show()"
   ]
  },
  {
   "cell_type": "code",
   "execution_count": 15,
   "id": "f5e30765",
   "metadata": {},
   "outputs": [],
   "source": [
    "X_train, Y_train = df_train[['X1', 'X2']].values, df_train[['Y']].values\n",
    "X_test, Y_test = df_test[['X1', 'X2']].values, df_test[['Y']].values"
   ]
  },
  {
   "cell_type": "code",
   "execution_count": 16,
   "id": "36a7d68e",
   "metadata": {
    "scrolled": true
   },
   "outputs": [],
   "source": [
    "model = LogisticRegression()\n",
    "model.fit(X_train, Y_train, epochs=50)"
   ]
  },
  {
   "cell_type": "code",
   "execution_count": 17,
   "id": "5d923f1d",
   "metadata": {},
   "outputs": [],
   "source": [
    "Y_pred = model.predict(X_test)"
   ]
  },
  {
   "cell_type": "code",
   "execution_count": 18,
   "id": "8d354418",
   "metadata": {},
   "outputs": [
    {
     "name": "stdout",
     "output_type": "stream",
     "text": [
      "Accuracy : 1.0\n"
     ]
    }
   ],
   "source": [
    "print(f\"Accuracy : {accuracy(Y_test, Y_pred)}\")"
   ]
  },
  {
   "cell_type": "code",
   "execution_count": 19,
   "id": "f8e5a0de",
   "metadata": {},
   "outputs": [
    {
     "data": {
      "image/png": "[encoded data removed]",
      "text/plain": [
       "<Figure size 640x480 with 1 Axes>"
      ]
     },
     "metadata": {},
     "output_type": "display_data"
    }
   ],
   "source": [
    "plt.scatter(df_train['X1'], df_train['X2'], marker='o', c=df_train['Y'])\n",
    "plt.scatter(df_test['X1'], df_test['X2'], marker='*', c=Y_pred)\n",
    "plt.title('Data Visualized')\n",
    "plt.xlabel('X1')\n",
    "plt.ylabel('X2')\n",
    "plt.show()"
   ]
  },
  {
   "cell_type": "code",
   "execution_count": 20,
   "id": "c60020c3",
   "metadata": {},
   "outputs": [],
   "source": [
    "x_min, x_max = df['X1'].min() - 1, df['X1'].max() + 1\n",
    "y_min, y_max = df['X2'].min() - 1, df['X2'].max() + 1\n",
    "xx, yy = np.meshgrid(np.linspace(x_min, x_max), np.linspace(y_min, y_max))\n",
    "xxyy_test = np.c_[xx.ravel(), yy.ravel()]\n",
    "Z = model.probs(xxyy_test)\n",
    "Z = Z.reshape(xx.shape)"
   ]
  },
  {
   "cell_type": "code",
   "execution_count": 21,
   "id": "12a4150d",
   "metadata": {},
   "outputs": [
    {
     "data": {
      "image/png": "[encoded data removed]",
      "text/plain": [
       "<Figure size 800x600 with 1 Axes>"
      ]
     },
     "metadata": {},
     "output_type": "display_data"
    }
   ],
   "source": [
    "plt.figure(figsize=(8, 6))\n",
    "plt.scatter(df_train['X1'], df_train['X2'], c=df_train['Y'], cmap=plt.cm.RdBu)\n",
    "plt.contourf(xx, yy, Z, cmap=plt.cm.RdBu, alpha=0.25)\n",
    "plt.title('Logistic Regression Decision Boundary')\n",
    "plt.xlabel('X1')\n",
    "plt.ylabel('X2')\n",
    "plt.show()"
   ]
  },
  {
   "cell_type": "code",
   "execution_count": null,
   "id": "912e2860",
   "metadata": {},
   "outputs": [],
   "source": []
  }
 ],
 "metadata": {
  "kernelspec": {
   "display_name": "Python 3 (ipykernel)",
   "language": "python",
   "name": "python3"
  },
  "language_info": {
   "codemirror_mode": {
    "name": "ipython",
    "version": 3
   },
   "file_extension": ".py",
   "mimetype": "text/x-python",
   "name": "python",
   "nbconvert_exporter": "python",
   "pygments_lexer": "ipython3",
   "version": "3.10.13"
  }
 },
 "nbformat": 4,
 "nbformat_minor": 5
}
