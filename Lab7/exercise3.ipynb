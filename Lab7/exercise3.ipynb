{
 "cells": [
  {
   "cell_type": "code",
   "execution_count": 1,
   "id": "8c60703c",
   "metadata": {},
   "outputs": [],
   "source": [
    "import numpy as np\n",
    "import pandas as pd\n",
    "import matplotlib.pyplot as plt\n",
    "\n",
    "from sklearn.model_selection import train_test_split\n",
    "from sklearn.linear_model import LogisticRegression\n",
    "from sklearn.metrics import classification_report, confusion_matrix, mean_squared_error"
   ]
  },
  {
   "cell_type": "code",
   "execution_count": 2,
   "id": "749a9385",
   "metadata": {},
   "outputs": [
    {
     "data": {
      "text/html": [
       "<div>\n",
       "<style scoped>\n",
       "    .dataframe tbody tr th:only-of-type {\n",
       "        vertical-align: middle;\n",
       "    }\n",
       "\n",
       "    .dataframe tbody tr th {\n",
       "        vertical-align: top;\n",
       "    }\n",
       "\n",
       "    .dataframe thead th {\n",
       "        text-align: right;\n",
       "    }\n",
       "</style>\n",
       "<table border=\"1\" class=\"dataframe\">\n",
       "  <thead>\n",
       "    <tr style=\"text-align: right;\">\n",
       "      <th></th>\n",
       "      <th>X1</th>\n",
       "      <th>X2</th>\n",
       "      <th>Y</th>\n",
       "    </tr>\n",
       "  </thead>\n",
       "  <tbody>\n",
       "    <tr>\n",
       "      <th>0</th>\n",
       "      <td>2.781084</td>\n",
       "      <td>2.550537</td>\n",
       "      <td>0</td>\n",
       "    </tr>\n",
       "    <tr>\n",
       "      <th>1</th>\n",
       "      <td>1.465489</td>\n",
       "      <td>2.362125</td>\n",
       "      <td>0</td>\n",
       "    </tr>\n",
       "    <tr>\n",
       "      <th>2</th>\n",
       "      <td>3.396562</td>\n",
       "      <td>4.400294</td>\n",
       "      <td>0</td>\n",
       "    </tr>\n",
       "    <tr>\n",
       "      <th>3</th>\n",
       "      <td>1.388070</td>\n",
       "      <td>1.850220</td>\n",
       "      <td>0</td>\n",
       "    </tr>\n",
       "    <tr>\n",
       "      <th>4</th>\n",
       "      <td>3.064072</td>\n",
       "      <td>3.005306</td>\n",
       "      <td>0</td>\n",
       "    </tr>\n",
       "  </tbody>\n",
       "</table>\n",
       "</div>"
      ],
      "text/plain": [
       "         X1        X2  Y\n",
       "0  2.781084  2.550537  0\n",
       "1  1.465489  2.362125  0\n",
       "2  3.396562  4.400294  0\n",
       "3  1.388070  1.850220  0\n",
       "4  3.064072  3.005306  0"
      ]
     },
     "execution_count": 2,
     "metadata": {},
     "output_type": "execute_result"
    }
   ],
   "source": [
    "df = pd.read_csv('dataset.csv')\n",
    "\n",
    "df.head()"
   ]
  },
  {
   "cell_type": "code",
   "execution_count": 3,
   "id": "bc3c1a59",
   "metadata": {},
   "outputs": [
    {
     "name": "stdout",
     "output_type": "stream",
     "text": [
      "<class 'pandas.core.frame.DataFrame'>\n",
      "RangeIndex: 10 entries, 0 to 9\n",
      "Data columns (total 3 columns):\n",
      " #   Column  Non-Null Count  Dtype  \n",
      "---  ------  --------------  -----  \n",
      " 0   X1      10 non-null     float64\n",
      " 1   X2      10 non-null     float64\n",
      " 2   Y       10 non-null     int64  \n",
      "dtypes: float64(2), int64(1)\n",
      "memory usage: 368.0 bytes\n"
     ]
    }
   ],
   "source": [
    "df.info()"
   ]
  },
  {
   "cell_type": "code",
   "execution_count": 4,
   "id": "7b45faaa",
   "metadata": {},
   "outputs": [
    {
     "data": {
      "image/png": "[encoded data removed]",
      "text/plain": [
       "<Figure size 576x432 with 1 Axes>"
      ]
     },
     "metadata": {
      "needs_background": "light"
     },
     "output_type": "display_data"
    }
   ],
   "source": [
    "plt.figure(figsize=(8, 6))\n",
    "sc = plt.scatter(df['X1'], df['X2'], c=df['Y'], cmap=plt.cm.RdBu)\n",
    "plt.xlabel('X1')\n",
    "plt.ylabel('X2')\n",
    "plt.legend(*sc.legend_elements(), title='Classes', loc='upper left')\n",
    "plt.title('Given Dataset')\n",
    "plt.show()"
   ]
  },
  {
   "cell_type": "code",
   "execution_count": 5,
   "id": "9ef368fb",
   "metadata": {},
   "outputs": [],
   "source": [
    "X = df[['X1', 'X2']].values\n",
    "Y = df['Y'].values"
   ]
  },
  {
   "cell_type": "code",
   "execution_count": 6,
   "id": "905a88ae",
   "metadata": {},
   "outputs": [],
   "source": [
    "X_train, X_test, Y_train, Y_test = train_test_split(X, Y, test_size=0.2, stratify=Y)"
   ]
  },
  {
   "cell_type": "code",
   "execution_count": null,
   "id": "e307fb6d",
   "metadata": {},
   "outputs": [],
   "source": []
  },
  {
   "cell_type": "code",
   "execution_count": 7,
   "id": "210920de",
   "metadata": {},
   "outputs": [
    {
     "name": "stdout",
     "output_type": "stream",
     "text": [
      "B0:0.01 B1:0.07 B2:0.03\n",
      "B0:-0.00 B1:0.02 B2:-0.04\n",
      "B0:0.01 B1:0.12 B2:-0.04\n",
      "B0:-0.00 B1:0.10 B2:-0.06\n",
      "B0:0.00 B1:0.16 B2:-0.04\n",
      "B0:-0.01 B1:0.14 B2:-0.07\n",
      "B0:-0.00 B1:0.19 B2:-0.05\n",
      "B0:-0.02 B1:0.15 B2:-0.09\n",
      "B0:-0.01 B1:0.19 B2:-0.08\n",
      "B0:-0.02 B1:0.14 B2:-0.14\n",
      "B0:-0.02 B1:0.18 B2:-0.14\n",
      "B0:-0.03 B1:0.16 B2:-0.16\n",
      "B0:-0.02 B1:0.21 B2:-0.14\n",
      "B0:-0.04 B1:0.20 B2:-0.17\n",
      "B0:-0.03 B1:0.24 B2:-0.15\n",
      "B0:-0.04 B1:0.20 B2:-0.19\n",
      "B0:-0.04 B1:0.24 B2:-0.17\n",
      "B0:-0.05 B1:0.20 B2:-0.23\n",
      "B0:-0.05 B1:0.22 B2:-0.23\n",
      "B0:-0.06 B1:0.20 B2:-0.25\n",
      "B0:-0.05 B1:0.25 B2:-0.23\n",
      "B0:-0.06 B1:0.24 B2:-0.26\n",
      "B0:-0.06 B1:0.28 B2:-0.24\n",
      "B0:-0.07 B1:0.24 B2:-0.28\n",
      "B0:-0.06 B1:0.29 B2:-0.26\n",
      "B0:-0.07 B1:0.25 B2:-0.31\n",
      "B0:-0.07 B1:0.26 B2:-0.31\n",
      "B0:-0.08 B1:0.24 B2:-0.33\n",
      "B0:-0.08 B1:0.29 B2:-0.31\n",
      "B0:-0.09 B1:0.28 B2:-0.33\n",
      "B0:-0.08 B1:0.32 B2:-0.31\n",
      "B0:-0.09 B1:0.29 B2:-0.35\n",
      "B0:-0.08 B1:0.32 B2:-0.33\n",
      "B0:-0.09 B1:0.29 B2:-0.37\n",
      "B0:-0.09 B1:0.30 B2:-0.37\n",
      "B0:-0.10 B1:0.28 B2:-0.39\n",
      "B0:-0.10 B1:0.32 B2:-0.38\n",
      "B0:-0.11 B1:0.31 B2:-0.40\n",
      "B0:-0.10 B1:0.36 B2:-0.38\n",
      "B0:-0.11 B1:0.32 B2:-0.41\n",
      "B0:-0.10 B1:0.36 B2:-0.40\n",
      "B0:-0.11 B1:0.33 B2:-0.43\n",
      "B0:-0.11 B1:0.34 B2:-0.43\n",
      "B0:-0.12 B1:0.32 B2:-0.45\n",
      "B0:-0.12 B1:0.36 B2:-0.44\n",
      "B0:-0.12 B1:0.35 B2:-0.46\n",
      "B0:-0.12 B1:0.39 B2:-0.44\n",
      "B0:-0.13 B1:0.36 B2:-0.47\n",
      "B0:-0.12 B1:0.39 B2:-0.45\n",
      "B0:-0.13 B1:0.37 B2:-0.48\n",
      "B0:-0.13 B1:0.37 B2:-0.48\n",
      "B0:-0.14 B1:0.36 B2:-0.50\n",
      "B0:-0.13 B1:0.39 B2:-0.49\n",
      "B0:-0.14 B1:0.38 B2:-0.51\n",
      "B0:-0.14 B1:0.42 B2:-0.49\n",
      "B0:-0.15 B1:0.39 B2:-0.52\n",
      "B0:-0.14 B1:0.42 B2:-0.50\n",
      "B0:-0.15 B1:0.40 B2:-0.53\n",
      "B0:-0.15 B1:0.40 B2:-0.53\n",
      "B0:-0.15 B1:0.39 B2:-0.55\n",
      "B0:-0.15 B1:0.42 B2:-0.54\n",
      "B0:-0.16 B1:0.41 B2:-0.55\n",
      "B0:-0.15 B1:0.45 B2:-0.53\n",
      "B0:-0.16 B1:0.42 B2:-0.56\n",
      "B0:-0.16 B1:0.45 B2:-0.55\n",
      "B0:-0.16 B1:0.43 B2:-0.57\n",
      "B0:-0.16 B1:0.43 B2:-0.57\n",
      "B0:-0.17 B1:0.42 B2:-0.59\n",
      "B0:-0.17 B1:0.44 B2:-0.58\n",
      "B0:-0.17 B1:0.44 B2:-0.59\n",
      "B0:-0.17 B1:0.47 B2:-0.58\n",
      "B0:-0.18 B1:0.44 B2:-0.60\n",
      "B0:-0.17 B1:0.47 B2:-0.59\n",
      "B0:-0.18 B1:0.46 B2:-0.61\n",
      "B0:-0.18 B1:0.46 B2:-0.61\n",
      "B0:-0.18 B1:0.45 B2:-0.63\n",
      "B0:-0.18 B1:0.47 B2:-0.62\n",
      "B0:-0.19 B1:0.46 B2:-0.63\n",
      "B0:-0.18 B1:0.50 B2:-0.62\n",
      "B0:-0.19 B1:0.47 B2:-0.64\n"
     ]
    }
   ],
   "source": [
    "b0, b1, b2 = 0.0, 0.0, 0.0\n",
    "\n",
    "alpha = 0.1\n",
    "epochs = 10\n",
    "n = len(X_train)\n",
    "\n",
    "ERRORS = []\n",
    "ACC = []\n",
    "\n",
    "for i in range(epochs):\n",
    "    correct = 0\n",
    "    for x, y in zip(X_train, Y_train):\n",
    "        z = b0 + b1 * x[0] + b2 * x[1]\n",
    "        pred = 1 / (1 + np.exp(-z))\n",
    "        \n",
    "        ERRORS.append(y - pred)\n",
    "        \n",
    "        delta_b0 = alpha * (y - pred) * pred * (1 - pred)\n",
    "        delta_b1 = alpha * (y - pred) * pred * (1 - pred) * x[0]\n",
    "        delta_b2 = alpha * (y - pred) * pred * (1 - pred) * x[1]\n",
    "        \n",
    "        b0 = b0 + delta_b0\n",
    "        b1 = b1 + delta_b1\n",
    "        b2 = b2 + delta_b2\n",
    "        \n",
    "        y_pred = 1 if pred >= 0.5 else 0\n",
    "        correct = correct + 1 if y_pred == y else correct\n",
    "        \n",
    "        print('B0:%.2f B1:%.2f B2:%.2f' % (b0, b1, b2))\n",
    "        #print(f'X:%s Y:%d Pred:%.2f' % (x, y, pred))\n",
    "    \n",
    "    acc = correct / n\n",
    "    ACC.append(acc)"
   ]
  },
  {
   "cell_type": "code",
   "execution_count": 8,
   "id": "967143d6",
   "metadata": {},
   "outputs": [
    {
     "name": "stdout",
     "output_type": "stream",
     "text": [
      "--- Coefficients ---\n",
      "B0: -0.19\n",
      "B1: 0.47\n",
      "B2: -0.64\n"
     ]
    }
   ],
   "source": [
    "print('--- Coefficients ---')\n",
    "print('B0: %.2f\\nB1: %.2f\\nB2: %.2f' % (b0, b1, b2))"
   ]
  },
  {
   "cell_type": "code",
   "execution_count": 9,
   "id": "8f753d89",
   "metadata": {},
   "outputs": [
    {
     "data": {
      "image/png": "[encoded data removed]",
      "text/plain": [
       "<Figure size 432x288 with 1 Axes>"
      ]
     },
     "metadata": {
      "needs_background": "light"
     },
     "output_type": "display_data"
    }
   ],
   "source": [
    "plt.step(range(epochs), ACC)\n",
    "plt.xlabel('Epoch')\n",
    "plt.ylabel('Accuracy')\n",
    "plt.title('Accuracy vs Epoch')\n",
    "plt.show()"
   ]
  },
  {
   "cell_type": "code",
   "execution_count": null,
   "id": "4929be9d",
   "metadata": {},
   "outputs": [],
   "source": []
  },
  {
   "cell_type": "code",
   "execution_count": 10,
   "id": "feac91fe",
   "metadata": {},
   "outputs": [],
   "source": [
    "Z = b0 + b1 * X_test[:, 0] + b2 * X_test[: 1]\n",
    "Y_pred = 1 / (1 + np.exp(-Z))\n",
    "Y_pred = Y_pred[0]"
   ]
  },
  {
   "cell_type": "code",
   "execution_count": 11,
   "id": "df4dddcd",
   "metadata": {
    "scrolled": false
   },
   "outputs": [
    {
     "name": "stdout",
     "output_type": "stream",
     "text": [
      "Mean Squared Error: 0.0761553005978904\n"
     ]
    }
   ],
   "source": [
    "print(f'Mean Squared Error: {mean_squared_error(Y_test, Y_pred)}')"
   ]
  },
  {
   "cell_type": "code",
   "execution_count": 12,
   "id": "8a57d51f",
   "metadata": {},
   "outputs": [],
   "source": [
    "Y_pred = np.array(Y_pred >= 0.5, np.uint8)"
   ]
  },
  {
   "cell_type": "code",
   "execution_count": 13,
   "id": "2485c3a5",
   "metadata": {
    "scrolled": true
   },
   "outputs": [
    {
     "name": "stdout",
     "output_type": "stream",
     "text": [
      "Confusion Matrix: \n",
      "[[1 0]\n",
      " [0 1]]\n"
     ]
    }
   ],
   "source": [
    "print('Confusion Matrix: ')\n",
    "print(confusion_matrix(Y_test, Y_pred))"
   ]
  },
  {
   "cell_type": "code",
   "execution_count": 14,
   "id": "cf777aab",
   "metadata": {
    "scrolled": true
   },
   "outputs": [
    {
     "name": "stdout",
     "output_type": "stream",
     "text": [
      "\n",
      "Classification Report:\n",
      "              precision    recall  f1-score   support\n",
      "\n",
      "           0       1.00      1.00      1.00         1\n",
      "           1       1.00      1.00      1.00         1\n",
      "\n",
      "    accuracy                           1.00         2\n",
      "   macro avg       1.00      1.00      1.00         2\n",
      "weighted avg       1.00      1.00      1.00         2\n",
      "\n"
     ]
    }
   ],
   "source": [
    "print(\"\\nClassification Report:\")\n",
    "print(classification_report(Y_test, Y_pred))"
   ]
  },
  {
   "cell_type": "code",
   "execution_count": null,
   "id": "1bde4c81",
   "metadata": {},
   "outputs": [],
   "source": []
  },
  {
   "cell_type": "code",
   "execution_count": 15,
   "id": "4035417e",
   "metadata": {},
   "outputs": [],
   "source": [
    "ERRORS = np.array(ERRORS)"
   ]
  },
  {
   "cell_type": "code",
   "execution_count": 16,
   "id": "da692271",
   "metadata": {
    "scrolled": true
   },
   "outputs": [
    {
     "data": {
      "image/png": "[encoded data removed]",
      "text/plain": [
       "<Figure size 432x288 with 1 Axes>"
      ]
     },
     "metadata": {
      "needs_background": "light"
     },
     "output_type": "display_data"
    }
   ],
   "source": [
    "plt.plot(ERRORS)\n",
    "plt.xlabel('Iteration')\n",
    "plt.ylabel('Error')\n",
    "plt.title('Error vs Iteration')\n",
    "plt.show()"
   ]
  },
  {
   "cell_type": "code",
   "execution_count": 17,
   "id": "c25290a9",
   "metadata": {},
   "outputs": [],
   "source": [
    "def get_errors(b0, b1, b2):\n",
    "    global X, Y\n",
    "    Z = b0 + b1 * X[:, 0] + b2 * X[:, 1]\n",
    "    Y_pred = 1 / (1 + np.exp(-Z))\n",
    "    error = np.sum((Y_pred - Y) ** 2) / len(Y)\n",
    "    return error    "
   ]
  },
  {
   "cell_type": "code",
   "execution_count": 18,
   "id": "c1c5f49f",
   "metadata": {},
   "outputs": [
    {
     "data": {
      "image/png": "[encoded data removed]",
      "text/plain": [
       "<Figure size 432x288 with 1 Axes>"
      ]
     },
     "metadata": {
      "needs_background": "light"
     },
     "output_type": "display_data"
    }
   ],
   "source": [
    "B1 = np.linspace(0, 4, 100)\n",
    "ERROR = []\n",
    "\n",
    "for b1_ in B1:\n",
    "    ERROR.append(get_errors(b0, b1_, b2))\n",
    "\n",
    "plt.plot(B1, ERROR)\n",
    "plt.xlabel('B1')\n",
    "plt.ylabel('Error')\n",
    "plt.title('B1 vs Error')\n",
    "plt.show()"
   ]
  },
  {
   "cell_type": "code",
   "execution_count": 19,
   "id": "3642f1a7",
   "metadata": {},
   "outputs": [
    {
     "data": {
      "image/png": "[encoded data removed]",
      "text/plain": [
       "<Figure size 432x288 with 1 Axes>"
      ]
     },
     "metadata": {
      "needs_background": "light"
     },
     "output_type": "display_data"
    }
   ],
   "source": [
    "B2 = np.linspace(-4, 0, 100)\n",
    "ERROR = []\n",
    "\n",
    "for b2_ in B2:\n",
    "    ERROR.append(get_errors(b0, b1, b2_))\n",
    "\n",
    "plt.plot(B2, ERROR)\n",
    "plt.xlabel('B2')\n",
    "plt.ylabel('Error')\n",
    "plt.title('B2 vs Error')\n",
    "plt.show()"
   ]
  },
  {
   "cell_type": "code",
   "execution_count": null,
   "id": "b587ac20",
   "metadata": {},
   "outputs": [],
   "source": []
  },
  {
   "cell_type": "code",
   "execution_count": 20,
   "id": "e07cfaa9",
   "metadata": {},
   "outputs": [
    {
     "data": {
      "text/plain": [
       "LogisticRegression()"
      ]
     },
     "execution_count": 20,
     "metadata": {},
     "output_type": "execute_result"
    }
   ],
   "source": [
    "model = LogisticRegression()\n",
    "model.fit(X_train, Y_train)"
   ]
  },
  {
   "cell_type": "code",
   "execution_count": 21,
   "id": "22e03dc1",
   "metadata": {},
   "outputs": [
    {
     "name": "stdout",
     "output_type": "stream",
     "text": [
      "--- Coefficients (Sklearn) ---\n",
      "B0: -4.03\n",
      "B1: 1.08\n",
      "B2: -0.35\n"
     ]
    }
   ],
   "source": [
    "print('--- Coefficients (Sklearn) ---')\n",
    "print('B0: %.2f\\nB1: %.2f\\nB2: %.2f' % (model.intercept_, model.coef_[0][0], model.coef_[0][1]))"
   ]
  },
  {
   "cell_type": "code",
   "execution_count": 22,
   "id": "a7feb5fe",
   "metadata": {},
   "outputs": [],
   "source": [
    "Y_pred = model.predict(X_test)"
   ]
  },
  {
   "cell_type": "code",
   "execution_count": 23,
   "id": "95f83fe0",
   "metadata": {},
   "outputs": [
    {
     "name": "stdout",
     "output_type": "stream",
     "text": [
      "Confusion Matrix: \n",
      "[[1 0]\n",
      " [0 1]]\n"
     ]
    }
   ],
   "source": [
    "print('Confusion Matrix: ')\n",
    "print(confusion_matrix(Y_test, Y_pred))"
   ]
  },
  {
   "cell_type": "code",
   "execution_count": 24,
   "id": "57eb3bd2",
   "metadata": {},
   "outputs": [
    {
     "name": "stdout",
     "output_type": "stream",
     "text": [
      "\n",
      "Classification Report:\n",
      "              precision    recall  f1-score   support\n",
      "\n",
      "           0       1.00      1.00      1.00         1\n",
      "           1       1.00      1.00      1.00         1\n",
      "\n",
      "    accuracy                           1.00         2\n",
      "   macro avg       1.00      1.00      1.00         2\n",
      "weighted avg       1.00      1.00      1.00         2\n",
      "\n"
     ]
    }
   ],
   "source": [
    "print(\"\\nClassification Report:\")\n",
    "print(classification_report(Y_test, Y_pred))"
   ]
  },
  {
   "cell_type": "code",
   "execution_count": null,
   "id": "66c55d20",
   "metadata": {},
   "outputs": [],
   "source": []
  }
 ],
 "metadata": {
  "kernelspec": {
   "display_name": "Python 3 (ipykernel)",
   "language": "python",
   "name": "python3"
  },
  "language_info": {
   "codemirror_mode": {
    "name": "ipython",
    "version": 3
   },
   "file_extension": ".py",
   "mimetype": "text/x-python",
   "name": "python",
   "nbconvert_exporter": "python",
   "pygments_lexer": "ipython3",
   "version": "3.10.12"
  }
 },
 "nbformat": 4,
 "nbformat_minor": 5
}
