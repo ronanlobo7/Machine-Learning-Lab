{
 "cells": [
  {
   "cell_type": "markdown",
   "id": "b9707b11",
   "metadata": {},
   "source": [
    "#### Question 1a"
   ]
  },
  {
   "cell_type": "code",
   "execution_count": 1,
   "id": "60d2dcab",
   "metadata": {},
   "outputs": [],
   "source": [
    "P_residence = {'hostel': 0.6, 'day scholar': 0.4}\n",
    "P_AGrade = {'hostel': 0.3, 'day scholar': 0.2}\n",
    "\n",
    "def get_probs(residence):\n",
    "    numerator = P_residence[residence] * P_AGrade[residence]\n",
    "    denominator = 0\n",
    "    for res in P_residence.keys():\n",
    "        denominator += P_residence[res] * P_AGrade[res]\n",
    "    return numerator / denominator"
   ]
  },
  {
   "cell_type": "code",
   "execution_count": 2,
   "id": "659944e7",
   "metadata": {},
   "outputs": [
    {
     "name": "stdout",
     "output_type": "stream",
     "text": [
      "Probability that the student is a hosteler given he scored an A Grade: 0.69\n"
     ]
    }
   ],
   "source": [
    "print(\"Probability that the student is a hosteler given he scored an A Grade: %.2f\" % get_probs('hostel'))"
   ]
  },
  {
   "cell_type": "markdown",
   "id": "daaa051c",
   "metadata": {},
   "source": [
    "#### Question 1b"
   ]
  },
  {
   "cell_type": "code",
   "execution_count": 3,
   "id": "5f5a0cca",
   "metadata": {},
   "outputs": [],
   "source": [
    "P_dis = {'disease': 0.01, 'no disease': 0.99}\n",
    "P_true = {'disease': 0.99, 'no disease': 0.02}\n",
    "\n",
    "def get_probs(condition):\n",
    "    numerator = P_dis[condition] * P_true[condition]\n",
    "    denominator = 0\n",
    "    for cls in P_dis.keys():\n",
    "        denominator += P_dis[cls] * P_true[cls]\n",
    "    return numerator / denominator"
   ]
  },
  {
   "cell_type": "code",
   "execution_count": 4,
   "id": "299dac0a",
   "metadata": {},
   "outputs": [
    {
     "name": "stdout",
     "output_type": "stream",
     "text": [
      "Probability of having the disease given a positive test result: 0.33\n"
     ]
    }
   ],
   "source": [
    "print(\"Probability of having the disease given a positive test result: %.2f\" % get_probs('disease'))"
   ]
  },
  {
   "cell_type": "code",
   "execution_count": null,
   "id": "4fd30403",
   "metadata": {},
   "outputs": [],
   "source": []
  }
 ],
 "metadata": {
  "kernelspec": {
   "display_name": "Python 3 (ipykernel)",
   "language": "python",
   "name": "python3"
  },
  "language_info": {
   "codemirror_mode": {
    "name": "ipython",
    "version": 3
   },
   "file_extension": ".py",
   "mimetype": "text/x-python",
   "name": "python",
   "nbconvert_exporter": "python",
   "pygments_lexer": "ipython3",
   "version": "3.10.12"
  }
 },
 "nbformat": 4,
 "nbformat_minor": 5
}
