{
 "cells": [
  {
   "cell_type": "code",
   "execution_count": 1,
   "id": "f7aabe53",
   "metadata": {},
   "outputs": [],
   "source": [
    "import pandas as pd\n",
    "from sklearn.feature_extraction.text import CountVectorizer\n",
    "from sklearn.naive_bayes import GaussianNB\n",
    "from sklearn.metrics import accuracy_score, classification_report\n",
    "from sklearn.model_selection import train_test_split"
   ]
  },
  {
   "cell_type": "markdown",
   "id": "1b237a05",
   "metadata": {},
   "source": [
    "#### My Implementation"
   ]
  },
  {
   "cell_type": "code",
   "execution_count": 2,
   "id": "16dc8f10",
   "metadata": {},
   "outputs": [
    {
     "data": {
      "text/html": [
       "<div>\n",
       "<style scoped>\n",
       "    .dataframe tbody tr th:only-of-type {\n",
       "        vertical-align: middle;\n",
       "    }\n",
       "\n",
       "    .dataframe tbody tr th {\n",
       "        vertical-align: top;\n",
       "    }\n",
       "\n",
       "    .dataframe thead th {\n",
       "        text-align: right;\n",
       "    }\n",
       "</style>\n",
       "<table border=\"1\" class=\"dataframe\">\n",
       "  <thead>\n",
       "    <tr style=\"text-align: right;\">\n",
       "      <th></th>\n",
       "      <th>Outlook</th>\n",
       "      <th>Play</th>\n",
       "    </tr>\n",
       "  </thead>\n",
       "  <tbody>\n",
       "    <tr>\n",
       "      <th>0</th>\n",
       "      <td>Rainy</td>\n",
       "      <td>Yes</td>\n",
       "    </tr>\n",
       "    <tr>\n",
       "      <th>1</th>\n",
       "      <td>Sunny</td>\n",
       "      <td>Yes</td>\n",
       "    </tr>\n",
       "    <tr>\n",
       "      <th>2</th>\n",
       "      <td>Overcast</td>\n",
       "      <td>Yes</td>\n",
       "    </tr>\n",
       "    <tr>\n",
       "      <th>3</th>\n",
       "      <td>Overcast</td>\n",
       "      <td>Yes</td>\n",
       "    </tr>\n",
       "    <tr>\n",
       "      <th>4</th>\n",
       "      <td>Sunny</td>\n",
       "      <td>No</td>\n",
       "    </tr>\n",
       "  </tbody>\n",
       "</table>\n",
       "</div>"
      ],
      "text/plain": [
       "    Outlook Play\n",
       "0     Rainy  Yes\n",
       "1     Sunny  Yes\n",
       "2  Overcast  Yes\n",
       "3  Overcast  Yes\n",
       "4     Sunny   No"
      ]
     },
     "execution_count": 2,
     "metadata": {},
     "output_type": "execute_result"
    }
   ],
   "source": [
    "df = pd.read_csv('data.csv')\n",
    "\n",
    "df.head()"
   ]
  },
  {
   "cell_type": "code",
   "execution_count": 3,
   "id": "9df2b19b",
   "metadata": {},
   "outputs": [
    {
     "name": "stdout",
     "output_type": "stream",
     "text": [
      "Input Classes:  ['Rainy' 'Sunny' 'Overcast']\n",
      "Output Classes:  ['Yes' 'No']\n"
     ]
    }
   ],
   "source": [
    "inp_classes = df['Outlook'].unique()\n",
    "out_classes = df['Play'].unique()\n",
    "\n",
    "print('Input Classes: ', inp_classes)\n",
    "print('Output Classes: ', out_classes)"
   ]
  },
  {
   "cell_type": "code",
   "execution_count": null,
   "id": "f6cd4640",
   "metadata": {},
   "outputs": [],
   "source": []
  },
  {
   "cell_type": "code",
   "execution_count": 4,
   "id": "f3d43214",
   "metadata": {},
   "outputs": [],
   "source": [
    "X = df.drop('Play', axis=1)\n",
    "Y = df['Play']\n",
    "\n",
    "X_train, X_test, Y_train, Y_test = train_test_split(X, Y, test_size=0.2, random_state=123)"
   ]
  },
  {
   "cell_type": "code",
   "execution_count": null,
   "id": "38a90983",
   "metadata": {},
   "outputs": [],
   "source": []
  },
  {
   "cell_type": "code",
   "execution_count": 5,
   "id": "a80220c5",
   "metadata": {},
   "outputs": [],
   "source": [
    "counts = Y.value_counts()\n",
    "play_prob = {}\n",
    "for cls in counts.index:\n",
    "    play_prob[cls] = counts[cls] / counts.sum()"
   ]
  },
  {
   "cell_type": "code",
   "execution_count": 6,
   "id": "205a0e30",
   "metadata": {},
   "outputs": [],
   "source": [
    "outlook_given_play = {}\n",
    "for play in out_classes:\n",
    "    probs = {}\n",
    "    temp = X_train[Y_train == play]\n",
    "    counts = temp['Outlook'].value_counts()\n",
    "    for cls in inp_classes:\n",
    "        try:\n",
    "            probs[cls] = counts[cls] / counts.sum()\n",
    "        except KeyError as ke:\n",
    "            probs[cls] = 0.0\n",
    "    outlook_given_play[play] = probs"
   ]
  },
  {
   "cell_type": "code",
   "execution_count": 7,
   "id": "087b3945",
   "metadata": {},
   "outputs": [],
   "source": [
    "def get_play(condition):\n",
    "    denominator = 0\n",
    "    for play, probs in outlook_given_play.items():\n",
    "        denominator += play_prob[play] * probs[condition]\n",
    "    numerator = play_prob['Yes'] * outlook_given_play['Yes'][condition]\n",
    "    prob = numerator / denominator\n",
    "    return 'Yes' if prob > 0.5 else 'No'"
   ]
  },
  {
   "cell_type": "code",
   "execution_count": null,
   "id": "9036250d",
   "metadata": {},
   "outputs": [],
   "source": []
  },
  {
   "cell_type": "code",
   "execution_count": 8,
   "id": "1fe63d25",
   "metadata": {},
   "outputs": [],
   "source": [
    "correct = 0\n",
    "for i in X_test.index:\n",
    "    pred = get_play(X_test['Outlook'][i])\n",
    "    if pred == Y_test[i]:\n",
    "        correct += 1\n",
    "acc = correct / len(Y_test)"
   ]
  },
  {
   "cell_type": "code",
   "execution_count": 9,
   "id": "bf07bcde",
   "metadata": {},
   "outputs": [
    {
     "name": "stdout",
     "output_type": "stream",
     "text": [
      "Accuracy: 0.67\n"
     ]
    }
   ],
   "source": [
    "print(\"Accuracy: %.2f\" % acc)"
   ]
  },
  {
   "cell_type": "code",
   "execution_count": null,
   "id": "d84a5032",
   "metadata": {},
   "outputs": [],
   "source": []
  },
  {
   "cell_type": "code",
   "execution_count": 10,
   "id": "6378f11b",
   "metadata": {},
   "outputs": [
    {
     "name": "stdout",
     "output_type": "stream",
     "text": [
      "Input Classes: \n",
      "1. Rainy\n",
      "2. Sunny\n",
      "3. Overcast\n",
      "Enter the outlook condition: 2\n",
      "Play: Yes\n"
     ]
    }
   ],
   "source": [
    "print(\"Input Classes: \")\n",
    "for i, outlook in enumerate(inp_classes):\n",
    "    print(f\"{i+1}. {outlook.capitalize()}\")\n",
    "condition = int(input(\"Enter the outlook condition: \"))\n",
    "print(\"Play: %s\" % get_play(inp_classes[condition-1]))"
   ]
  },
  {
   "cell_type": "code",
   "execution_count": null,
   "id": "ca4ad733",
   "metadata": {},
   "outputs": [],
   "source": []
  },
  {
   "cell_type": "markdown",
   "id": "a4d88304",
   "metadata": {},
   "source": [
    "#### Sklearn Implementation"
   ]
  },
  {
   "cell_type": "code",
   "execution_count": 11,
   "id": "ac257546",
   "metadata": {},
   "outputs": [
    {
     "data": {
      "text/html": [
       "<div>\n",
       "<style scoped>\n",
       "    .dataframe tbody tr th:only-of-type {\n",
       "        vertical-align: middle;\n",
       "    }\n",
       "\n",
       "    .dataframe tbody tr th {\n",
       "        vertical-align: top;\n",
       "    }\n",
       "\n",
       "    .dataframe thead th {\n",
       "        text-align: right;\n",
       "    }\n",
       "</style>\n",
       "<table border=\"1\" class=\"dataframe\">\n",
       "  <thead>\n",
       "    <tr style=\"text-align: right;\">\n",
       "      <th></th>\n",
       "      <th>Outlook</th>\n",
       "      <th>Play</th>\n",
       "    </tr>\n",
       "  </thead>\n",
       "  <tbody>\n",
       "    <tr>\n",
       "      <th>0</th>\n",
       "      <td>Rainy</td>\n",
       "      <td>Yes</td>\n",
       "    </tr>\n",
       "    <tr>\n",
       "      <th>1</th>\n",
       "      <td>Sunny</td>\n",
       "      <td>Yes</td>\n",
       "    </tr>\n",
       "    <tr>\n",
       "      <th>2</th>\n",
       "      <td>Overcast</td>\n",
       "      <td>Yes</td>\n",
       "    </tr>\n",
       "    <tr>\n",
       "      <th>3</th>\n",
       "      <td>Overcast</td>\n",
       "      <td>Yes</td>\n",
       "    </tr>\n",
       "    <tr>\n",
       "      <th>4</th>\n",
       "      <td>Sunny</td>\n",
       "      <td>No</td>\n",
       "    </tr>\n",
       "  </tbody>\n",
       "</table>\n",
       "</div>"
      ],
      "text/plain": [
       "    Outlook Play\n",
       "0     Rainy  Yes\n",
       "1     Sunny  Yes\n",
       "2  Overcast  Yes\n",
       "3  Overcast  Yes\n",
       "4     Sunny   No"
      ]
     },
     "execution_count": 11,
     "metadata": {},
     "output_type": "execute_result"
    }
   ],
   "source": [
    "df = pd.read_csv('data.csv')\n",
    "\n",
    "df.head()"
   ]
  },
  {
   "cell_type": "code",
   "execution_count": 12,
   "id": "e05a0a6b",
   "metadata": {},
   "outputs": [
    {
     "name": "stdout",
     "output_type": "stream",
     "text": [
      "<class 'pandas.core.frame.DataFrame'>\n",
      "RangeIndex: 14 entries, 0 to 13\n",
      "Data columns (total 2 columns):\n",
      " #   Column   Non-Null Count  Dtype \n",
      "---  ------   --------------  ----- \n",
      " 0   Outlook  14 non-null     object\n",
      " 1   Play     14 non-null     object\n",
      "dtypes: object(2)\n",
      "memory usage: 352.0+ bytes\n"
     ]
    }
   ],
   "source": [
    "df.info()"
   ]
  },
  {
   "cell_type": "code",
   "execution_count": 13,
   "id": "1cd09de7",
   "metadata": {
    "scrolled": true
   },
   "outputs": [
    {
     "data": {
      "text/html": [
       "<div>\n",
       "<style scoped>\n",
       "    .dataframe tbody tr th:only-of-type {\n",
       "        vertical-align: middle;\n",
       "    }\n",
       "\n",
       "    .dataframe tbody tr th {\n",
       "        vertical-align: top;\n",
       "    }\n",
       "\n",
       "    .dataframe thead th {\n",
       "        text-align: right;\n",
       "    }\n",
       "</style>\n",
       "<table border=\"1\" class=\"dataframe\">\n",
       "  <thead>\n",
       "    <tr style=\"text-align: right;\">\n",
       "      <th></th>\n",
       "      <th>Play</th>\n",
       "      <th>Outlook_Overcast</th>\n",
       "      <th>Outlook_Rainy</th>\n",
       "      <th>Outlook_Sunny</th>\n",
       "    </tr>\n",
       "  </thead>\n",
       "  <tbody>\n",
       "    <tr>\n",
       "      <th>0</th>\n",
       "      <td>Yes</td>\n",
       "      <td>0</td>\n",
       "      <td>1</td>\n",
       "      <td>0</td>\n",
       "    </tr>\n",
       "    <tr>\n",
       "      <th>1</th>\n",
       "      <td>Yes</td>\n",
       "      <td>0</td>\n",
       "      <td>0</td>\n",
       "      <td>1</td>\n",
       "    </tr>\n",
       "    <tr>\n",
       "      <th>2</th>\n",
       "      <td>Yes</td>\n",
       "      <td>1</td>\n",
       "      <td>0</td>\n",
       "      <td>0</td>\n",
       "    </tr>\n",
       "    <tr>\n",
       "      <th>3</th>\n",
       "      <td>Yes</td>\n",
       "      <td>1</td>\n",
       "      <td>0</td>\n",
       "      <td>0</td>\n",
       "    </tr>\n",
       "    <tr>\n",
       "      <th>4</th>\n",
       "      <td>No</td>\n",
       "      <td>0</td>\n",
       "      <td>0</td>\n",
       "      <td>1</td>\n",
       "    </tr>\n",
       "  </tbody>\n",
       "</table>\n",
       "</div>"
      ],
      "text/plain": [
       "  Play  Outlook_Overcast  Outlook_Rainy  Outlook_Sunny\n",
       "0  Yes                 0              1              0\n",
       "1  Yes                 0              0              1\n",
       "2  Yes                 1              0              0\n",
       "3  Yes                 1              0              0\n",
       "4   No                 0              0              1"
      ]
     },
     "execution_count": 13,
     "metadata": {},
     "output_type": "execute_result"
    }
   ],
   "source": [
    "pre_df = pd.get_dummies(df, columns=['Outlook'])\n",
    "pre_df.head()"
   ]
  },
  {
   "cell_type": "code",
   "execution_count": 14,
   "id": "6bc7d68c",
   "metadata": {},
   "outputs": [],
   "source": [
    "X = pre_df.drop('Play', axis=1)\n",
    "Y = pre_df['Play']\n",
    "\n",
    "X_train, X_test, Y_train, Y_test = train_test_split(X, Y, test_size=0.2, random_state=123)"
   ]
  },
  {
   "cell_type": "code",
   "execution_count": 15,
   "id": "d1cfaa08",
   "metadata": {},
   "outputs": [
    {
     "data": {
      "text/plain": [
       "GaussianNB()"
      ]
     },
     "execution_count": 15,
     "metadata": {},
     "output_type": "execute_result"
    }
   ],
   "source": [
    "model = GaussianNB()\n",
    "\n",
    "model.fit(X_train, Y_train)"
   ]
  },
  {
   "cell_type": "code",
   "execution_count": 16,
   "id": "d5f840a2",
   "metadata": {},
   "outputs": [],
   "source": [
    "Y_pred = model.predict(X_test)"
   ]
  },
  {
   "cell_type": "code",
   "execution_count": 17,
   "id": "41018708",
   "metadata": {},
   "outputs": [
    {
     "name": "stdout",
     "output_type": "stream",
     "text": [
      "Accuracy: 0.67\n",
      "              precision    recall  f1-score   support\n",
      "\n",
      "          No       0.50      1.00      0.67         1\n",
      "         Yes       1.00      0.50      0.67         2\n",
      "\n",
      "    accuracy                           0.67         3\n",
      "   macro avg       0.75      0.75      0.67         3\n",
      "weighted avg       0.83      0.67      0.67         3\n",
      "\n"
     ]
    }
   ],
   "source": [
    "accuracy = accuracy_score(Y_test, Y_pred)\n",
    "report = classification_report(Y_test, Y_pred)\n",
    "print(\"Accuracy: %.2f\" % accuracy)\n",
    "print(report)"
   ]
  },
  {
   "cell_type": "code",
   "execution_count": null,
   "id": "0b8654ca",
   "metadata": {},
   "outputs": [],
   "source": []
  }
 ],
 "metadata": {
  "kernelspec": {
   "display_name": "Python 3 (ipykernel)",
   "language": "python",
   "name": "python3"
  },
  "language_info": {
   "codemirror_mode": {
    "name": "ipython",
    "version": 3
   },
   "file_extension": ".py",
   "mimetype": "text/x-python",
   "name": "python",
   "nbconvert_exporter": "python",
   "pygments_lexer": "ipython3",
   "version": "3.10.12"
  }
 },
 "nbformat": 4,
 "nbformat_minor": 5
}
