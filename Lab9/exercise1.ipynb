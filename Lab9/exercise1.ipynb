{
 "cells": [
  {
   "cell_type": "markdown",
   "id": "bbd84fd0",
   "metadata": {},
   "source": [
    "### Importing the Libraries"
   ]
  },
  {
   "cell_type": "code",
   "execution_count": 1,
   "id": "62c82535",
   "metadata": {},
   "outputs": [],
   "source": [
    "import numpy as np\n",
    "import pandas as pd\n",
    "import matplotlib.pyplot as plt"
   ]
  },
  {
   "cell_type": "markdown",
   "id": "9af6b0cb",
   "metadata": {},
   "source": [
    "### Define the Models"
   ]
  },
  {
   "cell_type": "code",
   "execution_count": 2,
   "id": "6c67b1b3",
   "metadata": {},
   "outputs": [],
   "source": [
    "class KNearestNeighbour:\n",
    "    def __init__(self, k, metric, p=3):\n",
    "        self.k = k\n",
    "        self.metric = metric\n",
    "        if metric == 'Minkowski':\n",
    "            self.p = p\n",
    "    \n",
    "    def fit(self, X, Y):\n",
    "        self.X_ = X\n",
    "        self.Y_ = Y\n",
    "    \n",
    "    def predict(self, X):\n",
    "        Y_pred = np.empty((X.shape[0], 1), dtype='object')\n",
    "        \n",
    "        for i, x in enumerate(X):\n",
    "            if self.metric == 'Euclidean':\n",
    "                dist = np.linalg.norm(self.X_ - x, axis=1)\n",
    "            elif self.metric ==  'Manhattan':\n",
    "                dist = np.sum(np.abs(self.X_ - x), axis=1)\n",
    "            elif self.metric == 'Minkowski':\n",
    "                dist = np.sum(np.power(self.X_ - x, self.p), axis=1)\n",
    "            \n",
    "            sort = np.argsort(dist)\n",
    "            sort = sort[:self.k]\n",
    "            top_k = pd.Series(self.Y_[sort].ravel())\n",
    "            \n",
    "            tmp = top_k.value_counts().sort_values(ascending=False)\n",
    "            Y_pred[i, 0] = tmp.index[0]\n",
    "        \n",
    "        return Y_pred\n",
    "        "
   ]
  },
  {
   "cell_type": "markdown",
   "id": "bb10b7d1",
   "metadata": {},
   "source": [
    "### Loading the Dataset"
   ]
  },
  {
   "cell_type": "code",
   "execution_count": 3,
   "id": "c04a6fc2",
   "metadata": {},
   "outputs": [
    {
     "data": {
      "text/html": [
       "<div>\n",
       "<style scoped>\n",
       "    .dataframe tbody tr th:only-of-type {\n",
       "        vertical-align: middle;\n",
       "    }\n",
       "\n",
       "    .dataframe tbody tr th {\n",
       "        vertical-align: top;\n",
       "    }\n",
       "\n",
       "    .dataframe thead th {\n",
       "        text-align: right;\n",
       "    }\n",
       "</style>\n",
       "<table border=\"1\" class=\"dataframe\">\n",
       "  <thead>\n",
       "    <tr style=\"text-align: right;\">\n",
       "      <th></th>\n",
       "      <th>X1 = Acid Durability(seconds)</th>\n",
       "      <th>X2 = Strength(kg/square meter)</th>\n",
       "      <th>Y = Classification</th>\n",
       "    </tr>\n",
       "  </thead>\n",
       "  <tbody>\n",
       "    <tr>\n",
       "      <th>0</th>\n",
       "      <td>7</td>\n",
       "      <td>7</td>\n",
       "      <td>Bad</td>\n",
       "    </tr>\n",
       "    <tr>\n",
       "      <th>1</th>\n",
       "      <td>7</td>\n",
       "      <td>4</td>\n",
       "      <td>Bad</td>\n",
       "    </tr>\n",
       "    <tr>\n",
       "      <th>2</th>\n",
       "      <td>3</td>\n",
       "      <td>4</td>\n",
       "      <td>Good</td>\n",
       "    </tr>\n",
       "    <tr>\n",
       "      <th>3</th>\n",
       "      <td>1</td>\n",
       "      <td>4</td>\n",
       "      <td>Good</td>\n",
       "    </tr>\n",
       "    <tr>\n",
       "      <th>4</th>\n",
       "      <td>4</td>\n",
       "      <td>5</td>\n",
       "      <td>Bad</td>\n",
       "    </tr>\n",
       "  </tbody>\n",
       "</table>\n",
       "</div>"
      ],
      "text/plain": [
       "   X1 = Acid Durability(seconds)  X2 = Strength(kg/square meter)  \\\n",
       "0                              7                               7   \n",
       "1                              7                               4   \n",
       "2                              3                               4   \n",
       "3                              1                               4   \n",
       "4                              4                               5   \n",
       "\n",
       "  Y = Classification  \n",
       "0                Bad  \n",
       "1                Bad  \n",
       "2               Good  \n",
       "3               Good  \n",
       "4                Bad  "
      ]
     },
     "execution_count": 3,
     "metadata": {},
     "output_type": "execute_result"
    }
   ],
   "source": [
    "df = pd.read_csv('dataset.csv')\n",
    "\n",
    "df.head()"
   ]
  },
  {
   "cell_type": "code",
   "execution_count": 4,
   "id": "0efa6d7f",
   "metadata": {},
   "outputs": [],
   "source": [
    "new_names = {}\n",
    "for col in df.columns:\n",
    "    new_names[col] = col.split(' ')[0]"
   ]
  },
  {
   "cell_type": "code",
   "execution_count": 5,
   "id": "b5ca5a14",
   "metadata": {},
   "outputs": [],
   "source": [
    "df.rename(columns=new_names, inplace=True)"
   ]
  },
  {
   "cell_type": "code",
   "execution_count": 6,
   "id": "2fe0a660",
   "metadata": {},
   "outputs": [
    {
     "data": {
      "text/html": [
       "<div>\n",
       "<style scoped>\n",
       "    .dataframe tbody tr th:only-of-type {\n",
       "        vertical-align: middle;\n",
       "    }\n",
       "\n",
       "    .dataframe tbody tr th {\n",
       "        vertical-align: top;\n",
       "    }\n",
       "\n",
       "    .dataframe thead th {\n",
       "        text-align: right;\n",
       "    }\n",
       "</style>\n",
       "<table border=\"1\" class=\"dataframe\">\n",
       "  <thead>\n",
       "    <tr style=\"text-align: right;\">\n",
       "      <th></th>\n",
       "      <th>X1</th>\n",
       "      <th>X2</th>\n",
       "      <th>Y</th>\n",
       "    </tr>\n",
       "  </thead>\n",
       "  <tbody>\n",
       "    <tr>\n",
       "      <th>0</th>\n",
       "      <td>7</td>\n",
       "      <td>7</td>\n",
       "      <td>Bad</td>\n",
       "    </tr>\n",
       "    <tr>\n",
       "      <th>1</th>\n",
       "      <td>7</td>\n",
       "      <td>4</td>\n",
       "      <td>Bad</td>\n",
       "    </tr>\n",
       "    <tr>\n",
       "      <th>2</th>\n",
       "      <td>3</td>\n",
       "      <td>4</td>\n",
       "      <td>Good</td>\n",
       "    </tr>\n",
       "    <tr>\n",
       "      <th>3</th>\n",
       "      <td>1</td>\n",
       "      <td>4</td>\n",
       "      <td>Good</td>\n",
       "    </tr>\n",
       "    <tr>\n",
       "      <th>4</th>\n",
       "      <td>4</td>\n",
       "      <td>5</td>\n",
       "      <td>Bad</td>\n",
       "    </tr>\n",
       "  </tbody>\n",
       "</table>\n",
       "</div>"
      ],
      "text/plain": [
       "   X1  X2     Y\n",
       "0   7   7   Bad\n",
       "1   7   4   Bad\n",
       "2   3   4  Good\n",
       "3   1   4  Good\n",
       "4   4   5   Bad"
      ]
     },
     "execution_count": 6,
     "metadata": {},
     "output_type": "execute_result"
    }
   ],
   "source": [
    "df.head()"
   ]
  },
  {
   "cell_type": "markdown",
   "id": "9d2a4fb9",
   "metadata": {},
   "source": [
    "### Data Visualization"
   ]
  },
  {
   "cell_type": "code",
   "execution_count": 7,
   "id": "e1221ee3",
   "metadata": {},
   "outputs": [],
   "source": [
    "good = df['Y'] == 'Good'\n",
    "bad = df['Y'] == 'Bad'"
   ]
  },
  {
   "cell_type": "code",
   "execution_count": 8,
   "id": "1eb38d55",
   "metadata": {},
   "outputs": [
    {
     "data": {
      "image/png": "[encoded data removed]",
      "text/plain": [
       "<Figure size 432x288 with 1 Axes>"
      ]
     },
     "metadata": {
      "needs_background": "light"
     },
     "output_type": "display_data"
    }
   ],
   "source": [
    "plt.scatter(df['X1'][good], df['X2'][good], c='green', label='Good')\n",
    "plt.scatter(df['X1'][bad], df['X2'][bad], c='red', label='Bad')\n",
    "plt.xlabel('X1')\n",
    "plt.ylabel('X2')\n",
    "plt.title('Given Dataset')\n",
    "plt.legend()\n",
    "plt.show()"
   ]
  },
  {
   "cell_type": "markdown",
   "id": "0eb31518",
   "metadata": {},
   "source": [
    "### Prepare the Dataset for Training"
   ]
  },
  {
   "cell_type": "code",
   "execution_count": 9,
   "id": "9730dcae",
   "metadata": {},
   "outputs": [],
   "source": [
    "X_train, Y_train = df.drop('Y', axis=1).values, df['Y']"
   ]
  },
  {
   "cell_type": "markdown",
   "id": "23fabe9d",
   "metadata": {},
   "source": [
    "### Define the Testing Point"
   ]
  },
  {
   "cell_type": "code",
   "execution_count": 10,
   "id": "fde6d7b9",
   "metadata": {},
   "outputs": [],
   "source": [
    "X_test = np.array([[3, 7]])"
   ]
  },
  {
   "cell_type": "markdown",
   "id": "9e3a1d2e",
   "metadata": {},
   "source": [
    "### Train and Run the Model for Different Values of k and Distance Metrics"
   ]
  },
  {
   "cell_type": "code",
   "execution_count": 11,
   "id": "3b119a17",
   "metadata": {
    "scrolled": true
   },
   "outputs": [],
   "source": [
    "K = [2, 3, 4]\n",
    "DIST_METRIC = ['Euclidean', 'Manhattan', 'Minkowski']\n",
    "\n",
    "classification = pd.DataFrame(columns=['K'] + DIST_METRIC)\n",
    "\n",
    "for k in K:\n",
    "    row = {'K': k}\n",
    "    for met in DIST_METRIC:\n",
    "        model = KNearestNeighbour(k=k, metric=met)\n",
    "        model.fit(X_train, Y_train)\n",
    "        \n",
    "        pred = model.predict(X_test)\n",
    "        row[met] = pred[0, 0]\n",
    "        \n",
    "    classification = classification.append(row, ignore_index=True)"
   ]
  },
  {
   "cell_type": "code",
   "execution_count": 12,
   "id": "c19f2a40",
   "metadata": {},
   "outputs": [
    {
     "name": "stdout",
     "output_type": "stream",
     "text": [
      "Classification Results for different values of k and distance metrics: \n"
     ]
    },
    {
     "data": {
      "text/html": [
       "<div>\n",
       "<style scoped>\n",
       "    .dataframe tbody tr th:only-of-type {\n",
       "        vertical-align: middle;\n",
       "    }\n",
       "\n",
       "    .dataframe tbody tr th {\n",
       "        vertical-align: top;\n",
       "    }\n",
       "\n",
       "    .dataframe thead th {\n",
       "        text-align: right;\n",
       "    }\n",
       "</style>\n",
       "<table border=\"1\" class=\"dataframe\">\n",
       "  <thead>\n",
       "    <tr style=\"text-align: right;\">\n",
       "      <th></th>\n",
       "      <th>K</th>\n",
       "      <th>Euclidean</th>\n",
       "      <th>Manhattan</th>\n",
       "      <th>Minkowski</th>\n",
       "    </tr>\n",
       "  </thead>\n",
       "  <tbody>\n",
       "    <tr>\n",
       "      <th>0</th>\n",
       "      <td>2</td>\n",
       "      <td>Bad</td>\n",
       "      <td>Good</td>\n",
       "      <td>Good</td>\n",
       "    </tr>\n",
       "    <tr>\n",
       "      <th>1</th>\n",
       "      <td>3</td>\n",
       "      <td>Bad</td>\n",
       "      <td>Good</td>\n",
       "      <td>Good</td>\n",
       "    </tr>\n",
       "    <tr>\n",
       "      <th>2</th>\n",
       "      <td>4</td>\n",
       "      <td>Bad</td>\n",
       "      <td>Good</td>\n",
       "      <td>Good</td>\n",
       "    </tr>\n",
       "  </tbody>\n",
       "</table>\n",
       "</div>"
      ],
      "text/plain": [
       "   K Euclidean Manhattan Minkowski\n",
       "0  2       Bad      Good      Good\n",
       "1  3       Bad      Good      Good\n",
       "2  4       Bad      Good      Good"
      ]
     },
     "execution_count": 12,
     "metadata": {},
     "output_type": "execute_result"
    }
   ],
   "source": [
    "print('Classification Results for different values of k and distance metrics: ')\n",
    "classification"
   ]
  },
  {
   "cell_type": "code",
   "execution_count": null,
   "id": "62815e9a",
   "metadata": {},
   "outputs": [],
   "source": []
  }
 ],
 "metadata": {
  "kernelspec": {
   "display_name": "Python 3 (ipykernel)",
   "language": "python",
   "name": "python3"
  },
  "language_info": {
   "codemirror_mode": {
    "name": "ipython",
    "version": 3
   },
   "file_extension": ".py",
   "mimetype": "text/x-python",
   "name": "python",
   "nbconvert_exporter": "python",
   "pygments_lexer": "ipython3",
   "version": "3.10.12"
  }
 },
 "nbformat": 4,
 "nbformat_minor": 5
}
