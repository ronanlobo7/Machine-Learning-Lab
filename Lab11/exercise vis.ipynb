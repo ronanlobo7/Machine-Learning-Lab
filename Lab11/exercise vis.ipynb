{
 "cells": [
  {
   "cell_type": "markdown",
   "id": "918e324d",
   "metadata": {},
   "source": [
    "### Importing the Libraries"
   ]
  },
  {
   "cell_type": "code",
   "execution_count": 1,
   "id": "07cbfcc2",
   "metadata": {},
   "outputs": [],
   "source": [
    "import numpy as np\n",
    "import pandas as pd\n",
    "import networkx as nx\n",
    "import matplotlib.pyplot as plt"
   ]
  },
  {
   "cell_type": "markdown",
   "id": "1e0f84bb",
   "metadata": {},
   "source": [
    "### Model Definition"
   ]
  },
  {
   "cell_type": "code",
   "execution_count": 2,
   "id": "8688dabe",
   "metadata": {},
   "outputs": [],
   "source": [
    "class DecisionTree:\n",
    "    class Node:\n",
    "        gNode = None\n",
    "        def __init__(self, leaf=False, prop=None, path=None, val=None, ent=None):\n",
    "            self.leaf = leaf\n",
    "            self.prop = prop\n",
    "            self.path = path\n",
    "            self.val = val\n",
    "            self.ent = ent\n",
    "    \n",
    "    \n",
    "    def __init__(self):\n",
    "        self.root = None\n",
    "        self.g = nx.DiGraph()\n",
    "        self.i = 0\n",
    "        self.node_labels = {}\n",
    "        self.edge_labels = {}\n",
    "        \n",
    "    \n",
    "    def fit(self, X, Y):\n",
    "        _, self.root = self.buildrec(X, Y)\n",
    "        \n",
    "    \n",
    "    def info(self, Y):\n",
    "        n = len(Y)\n",
    "        counts = Y.value_counts()\n",
    "        val = 0.0\n",
    "        for c in counts.values:\n",
    "            tmp = c / n\n",
    "            val += - tmp * np.log2(tmp)\n",
    "        \n",
    "        return val\n",
    "    \n",
    "    \n",
    "    def buildrec(self, X, Y):\n",
    "        nodeval = self.i\n",
    "        self.i += 1\n",
    "        \n",
    "        uniques = Y.unique()\n",
    "        if len(uniques) == 1:\n",
    "            self.node_labels[nodeval] = uniques[0]\n",
    "            return nodeval, self.Node(leaf=True, val=uniques[0], ent=0.0)\n",
    "        \n",
    "        least_feature = None\n",
    "        least_ent = None\n",
    "        \n",
    "        for feature in X.columns:\n",
    "            entropy = 0.0\n",
    "            for unq in X[feature].unique():\n",
    "                ind = X[feature] == unq\n",
    "                X_ = X[ind]\n",
    "                Y_ = Y[ind]\n",
    "                \n",
    "                entropy += (len(Y_) / len(Y)) * self.info(Y_)\n",
    "                \n",
    "            if least_feature is None or entropy < least_ent:\n",
    "                least_feature = feature\n",
    "                least_ent = entropy\n",
    "                \n",
    "        path = {}\n",
    "        \n",
    "        for unq in X[least_feature].unique():\n",
    "            ind = X[least_feature] == unq\n",
    "            X_ = X[ind]\n",
    "            Y_ = Y[ind]\n",
    "            \n",
    "            childval, tmp = self.buildrec(X_, Y_)\n",
    "            self.g.add_edge(nodeval, childval)\n",
    "            self.edge_labels[(nodeval, childval)] = unq\n",
    "            \n",
    "            path[unq] = tmp\n",
    "        \n",
    "        self.node_labels[nodeval] = least_feature\n",
    "        return nodeval, self.Node(leaf=False, prop=least_feature, path=path, ent=least_ent)\n",
    "        \n",
    "        \n",
    "    def predict(self, X):\n",
    "        Y_pred = pd.Series(dtype='object')\n",
    "        \n",
    "        for i, x in X.iterrows():\n",
    "            curr = self.root\n",
    "            \n",
    "            while curr.leaf is False:\n",
    "                curr = curr.path[x[curr.prop]]\n",
    "            \n",
    "            Y_pred.loc[i] = curr.val \n",
    "        \n",
    "        return Y_pred\n",
    "    \n",
    "    \n",
    "    def visualize(self):\n",
    "        plt.figure(figsize=(10, 10))\n",
    "        pos = nx.spring_layout(self.g, pos={0: (0, 0)})\n",
    "        nx.draw(self.g, pos)\n",
    "        nx.draw_networkx_nodes(self.g, pos, node_size=1000)\n",
    "        nx.draw_networkx_labels(self.g, pos, labels=self.node_labels)\n",
    "        nx.draw_networkx_edge_labels(self.g, pos, edge_labels=self.edge_labels)\n",
    "        plt.show()"
   ]
  },
  {
   "cell_type": "markdown",
   "id": "d070e2f7",
   "metadata": {},
   "source": [
    "### Dataset Loading"
   ]
  },
  {
   "cell_type": "code",
   "execution_count": 3,
   "id": "cb8c81d8",
   "metadata": {},
   "outputs": [
    {
     "data": {
      "text/html": [
       "<div>\n",
       "<style scoped>\n",
       "    .dataframe tbody tr th:only-of-type {\n",
       "        vertical-align: middle;\n",
       "    }\n",
       "\n",
       "    .dataframe tbody tr th {\n",
       "        vertical-align: top;\n",
       "    }\n",
       "\n",
       "    .dataframe thead th {\n",
       "        text-align: right;\n",
       "    }\n",
       "</style>\n",
       "<table border=\"1\" class=\"dataframe\">\n",
       "  <thead>\n",
       "    <tr style=\"text-align: right;\">\n",
       "      <th></th>\n",
       "      <th>Outlook</th>\n",
       "      <th>Temp.</th>\n",
       "      <th>Humidity</th>\n",
       "      <th>Wind</th>\n",
       "      <th>Decision</th>\n",
       "    </tr>\n",
       "  </thead>\n",
       "  <tbody>\n",
       "    <tr>\n",
       "      <th>0</th>\n",
       "      <td>Sunny</td>\n",
       "      <td>Hot</td>\n",
       "      <td>High</td>\n",
       "      <td>Weak</td>\n",
       "      <td>No</td>\n",
       "    </tr>\n",
       "    <tr>\n",
       "      <th>1</th>\n",
       "      <td>Sunny</td>\n",
       "      <td>Hot</td>\n",
       "      <td>High</td>\n",
       "      <td>Strong</td>\n",
       "      <td>No</td>\n",
       "    </tr>\n",
       "    <tr>\n",
       "      <th>2</th>\n",
       "      <td>Overcast</td>\n",
       "      <td>Hot</td>\n",
       "      <td>High</td>\n",
       "      <td>Weak</td>\n",
       "      <td>Yes</td>\n",
       "    </tr>\n",
       "    <tr>\n",
       "      <th>3</th>\n",
       "      <td>Rain</td>\n",
       "      <td>Mild</td>\n",
       "      <td>High</td>\n",
       "      <td>Weak</td>\n",
       "      <td>Yes</td>\n",
       "    </tr>\n",
       "    <tr>\n",
       "      <th>4</th>\n",
       "      <td>Rain</td>\n",
       "      <td>Cool</td>\n",
       "      <td>Normal</td>\n",
       "      <td>Weak</td>\n",
       "      <td>Yes</td>\n",
       "    </tr>\n",
       "  </tbody>\n",
       "</table>\n",
       "</div>"
      ],
      "text/plain": [
       "    Outlook Temp. Humidity    Wind Decision\n",
       "0     Sunny   Hot     High    Weak       No\n",
       "1     Sunny   Hot     High  Strong       No\n",
       "2  Overcast   Hot     High    Weak      Yes\n",
       "3      Rain  Mild     High    Weak      Yes\n",
       "4      Rain  Cool   Normal    Weak      Yes"
      ]
     },
     "execution_count": 3,
     "metadata": {},
     "output_type": "execute_result"
    }
   ],
   "source": [
    "df = pd.read_csv('dataset.csv')\n",
    "\n",
    "df.head()"
   ]
  },
  {
   "cell_type": "markdown",
   "id": "5f23f16f",
   "metadata": {},
   "source": [
    "### Preparing the Dataset for Training"
   ]
  },
  {
   "cell_type": "code",
   "execution_count": 4,
   "id": "a51029c6",
   "metadata": {},
   "outputs": [],
   "source": [
    "X_train, Y_train = df.drop('Decision', axis=1), df['Decision']"
   ]
  },
  {
   "cell_type": "markdown",
   "id": "4883e4a8",
   "metadata": {},
   "source": [
    "### Training and Testing the model"
   ]
  },
  {
   "cell_type": "code",
   "execution_count": 5,
   "id": "6ff21ea4",
   "metadata": {
    "scrolled": true
   },
   "outputs": [],
   "source": [
    "model = DecisionTree()\n",
    "\n",
    "model.fit(X_train, Y_train)"
   ]
  },
  {
   "cell_type": "markdown",
   "id": "a2a26478",
   "metadata": {},
   "source": [
    "### Define the Testing Dataset"
   ]
  },
  {
   "cell_type": "code",
   "execution_count": 6,
   "id": "0a125202",
   "metadata": {},
   "outputs": [
    {
     "data": {
      "text/html": [
       "<div>\n",
       "<style scoped>\n",
       "    .dataframe tbody tr th:only-of-type {\n",
       "        vertical-align: middle;\n",
       "    }\n",
       "\n",
       "    .dataframe tbody tr th {\n",
       "        vertical-align: top;\n",
       "    }\n",
       "\n",
       "    .dataframe thead th {\n",
       "        text-align: right;\n",
       "    }\n",
       "</style>\n",
       "<table border=\"1\" class=\"dataframe\">\n",
       "  <thead>\n",
       "    <tr style=\"text-align: right;\">\n",
       "      <th></th>\n",
       "      <th>Outlook</th>\n",
       "      <th>Temp.</th>\n",
       "      <th>Humidity</th>\n",
       "      <th>Wind</th>\n",
       "    </tr>\n",
       "  </thead>\n",
       "  <tbody>\n",
       "    <tr>\n",
       "      <th>0</th>\n",
       "      <td>Sunny</td>\n",
       "      <td>Mild</td>\n",
       "      <td>High</td>\n",
       "      <td>Weak</td>\n",
       "    </tr>\n",
       "    <tr>\n",
       "      <th>1</th>\n",
       "      <td>Overcast</td>\n",
       "      <td>Cool</td>\n",
       "      <td>Normal</td>\n",
       "      <td>Strong</td>\n",
       "    </tr>\n",
       "  </tbody>\n",
       "</table>\n",
       "</div>"
      ],
      "text/plain": [
       "    Outlook Temp. Humidity    Wind\n",
       "0     Sunny  Mild     High    Weak\n",
       "1  Overcast  Cool   Normal  Strong"
      ]
     },
     "execution_count": 6,
     "metadata": {},
     "output_type": "execute_result"
    }
   ],
   "source": [
    "X_test = pd.DataFrame({'Outlook': ['Sunny', 'Overcast'],\n",
    "                       'Temp.': ['Mild', 'Cool'],\n",
    "                       'Humidity': ['High', 'Normal'],\n",
    "                       'Wind': ['Weak', 'Strong']})\n",
    "\n",
    "X_test"
   ]
  },
  {
   "cell_type": "markdown",
   "id": "ad8d5717",
   "metadata": {},
   "source": [
    "### Predict the Outcomes"
   ]
  },
  {
   "cell_type": "code",
   "execution_count": 7,
   "id": "8e99bb6d",
   "metadata": {},
   "outputs": [],
   "source": [
    "Y_pred = model.predict(X_test)"
   ]
  },
  {
   "cell_type": "code",
   "execution_count": 8,
   "id": "168ce422",
   "metadata": {},
   "outputs": [
    {
     "name": "stdout",
     "output_type": "stream",
     "text": [
      "Predictions by the Decision Tree Classifier:\n"
     ]
    },
    {
     "data": {
      "text/html": [
       "<div>\n",
       "<style scoped>\n",
       "    .dataframe tbody tr th:only-of-type {\n",
       "        vertical-align: middle;\n",
       "    }\n",
       "\n",
       "    .dataframe tbody tr th {\n",
       "        vertical-align: top;\n",
       "    }\n",
       "\n",
       "    .dataframe thead th {\n",
       "        text-align: right;\n",
       "    }\n",
       "</style>\n",
       "<table border=\"1\" class=\"dataframe\">\n",
       "  <thead>\n",
       "    <tr style=\"text-align: right;\">\n",
       "      <th></th>\n",
       "      <th>Outlook</th>\n",
       "      <th>Temp.</th>\n",
       "      <th>Humidity</th>\n",
       "      <th>Wind</th>\n",
       "      <th>Decision</th>\n",
       "    </tr>\n",
       "  </thead>\n",
       "  <tbody>\n",
       "    <tr>\n",
       "      <th>0</th>\n",
       "      <td>Sunny</td>\n",
       "      <td>Mild</td>\n",
       "      <td>High</td>\n",
       "      <td>Weak</td>\n",
       "      <td>No</td>\n",
       "    </tr>\n",
       "    <tr>\n",
       "      <th>1</th>\n",
       "      <td>Overcast</td>\n",
       "      <td>Cool</td>\n",
       "      <td>Normal</td>\n",
       "      <td>Strong</td>\n",
       "      <td>Yes</td>\n",
       "    </tr>\n",
       "  </tbody>\n",
       "</table>\n",
       "</div>"
      ],
      "text/plain": [
       "    Outlook Temp. Humidity    Wind Decision\n",
       "0     Sunny  Mild     High    Weak       No\n",
       "1  Overcast  Cool   Normal  Strong      Yes"
      ]
     },
     "execution_count": 8,
     "metadata": {},
     "output_type": "execute_result"
    }
   ],
   "source": [
    "print('Predictions by the Decision Tree Classifier:')\n",
    "X_test.assign(Decision=Y_pred)"
   ]
  },
  {
   "cell_type": "markdown",
   "id": "42499a93",
   "metadata": {},
   "source": [
    "### Decision Tree Visualized"
   ]
  },
  {
   "cell_type": "code",
   "execution_count": 9,
   "id": "bebac8e0",
   "metadata": {},
   "outputs": [
    {
     "data": {
      "image/png": "[encoded data removed]",
      "text/plain": [
       "<Figure size 720x720 with 1 Axes>"
      ]
     },
     "metadata": {},
     "output_type": "display_data"
    }
   ],
   "source": [
    "model.visualize()"
   ]
  }
 ],
 "metadata": {
  "kernelspec": {
   "display_name": "Python 3 (ipykernel)",
   "language": "python",
   "name": "python3"
  },
  "language_info": {
   "codemirror_mode": {
    "name": "ipython",
    "version": 3
   },
   "file_extension": ".py",
   "mimetype": "text/x-python",
   "name": "python",
   "nbconvert_exporter": "python",
   "pygments_lexer": "ipython3",
   "version": "3.10.12"
  }
 },
 "nbformat": 4,
 "nbformat_minor": 5
}
