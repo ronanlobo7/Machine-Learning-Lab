{
 "cells": [
  {
   "cell_type": "code",
   "execution_count": 1,
   "id": "8865992c",
   "metadata": {},
   "outputs": [],
   "source": [
    "import numpy as np"
   ]
  },
  {
   "cell_type": "code",
   "execution_count": 2,
   "id": "dc52da51",
   "metadata": {},
   "outputs": [
    {
     "name": "stdout",
     "output_type": "stream",
     "text": [
      "[38 30 34 37 34 31 37 36 37 33]\n"
     ]
    }
   ],
   "source": [
    "# Additional 1\n",
    "\n",
    "a = np.random.randint(30, 40, 10)\n",
    "\n",
    "print(a)"
   ]
  },
  {
   "cell_type": "code",
   "execution_count": 3,
   "id": "aff3fb4a",
   "metadata": {},
   "outputs": [
    {
     "name": "stdout",
     "output_type": "stream",
     "text": [
      "A + B : \n",
      "[[ 8 10 13]\n",
      " [ 8 10 12]\n",
      " [ 8 10 13]]\n",
      "\n",
      "A - B: \n",
      "[[-6 -6 -7]\n",
      " [ 0  0  0]\n",
      " [ 6  6  7]]\n",
      "\n",
      "Sum of all elements in A: 46\n",
      "Sum of each columns in B: [12 15 19]\n",
      "Sum of each row in C: [31 30 31]\n",
      "\n",
      "A * B: \n",
      "[[ 18  24  31]\n",
      " [ 54  69  88]\n",
      " [ 91 116 148]]\n",
      "\n",
      "Sorted matrix C: \n",
      "[[ 8 10 13]\n",
      " [ 8 10 12]\n",
      " [ 8 10 13]]\n",
      "\n",
      "E Transpose: \n",
      "[[-6  0  6]\n",
      " [-6  0  6]\n",
      " [-7  0  7]]\n"
     ]
    }
   ],
   "source": [
    "# Additional 2\n",
    "\n",
    "A = np.array(((1, 2, 3), (4, 5, 6), (7, 8, 10)))\n",
    "B = np.array(((7, 8, 10) ,(4, 5, 6), (1, 2, 3)))\n",
    "\n",
    "# i.\n",
    "C = A + B\n",
    "E = A - B\n",
    "\n",
    "print('A + B : ')\n",
    "print(C)\n",
    "\n",
    "print('\\nA - B: ')\n",
    "print(E)\n",
    "\n",
    "# ii.\n",
    "print(f'\\nSum of all elements in A: {A.sum()}')\n",
    "print(f'Sum of each columns in B: {B.sum(0)}')\n",
    "print(f'Sum of each row in C: {C.sum(1)}')\n",
    "\n",
    "# iii.\n",
    "D = A.dot(B)\n",
    "\n",
    "print('\\nA * B: ')\n",
    "print(D)\n",
    "\n",
    "# iv.\n",
    "C.sort()\n",
    "\n",
    "print('\\nSorted matrix C: ')\n",
    "print(C)\n",
    "\n",
    "# v.\n",
    "print('\\nE Transpose: ')\n",
    "print(E.T)"
   ]
  }
 ],
 "metadata": {
  "kernelspec": {
   "display_name": "Python 3 (ipykernel)",
   "language": "python",
   "name": "python3"
  },
  "language_info": {
   "codemirror_mode": {
    "name": "ipython",
    "version": 3
   },
   "file_extension": ".py",
   "mimetype": "text/x-python",
   "name": "python",
   "nbconvert_exporter": "python",
   "pygments_lexer": "ipython3",
   "version": "3.10.6"
  }
 },
 "nbformat": 4,
 "nbformat_minor": 5
}
