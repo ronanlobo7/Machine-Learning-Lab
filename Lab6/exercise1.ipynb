{
 "cells": [
  {
   "cell_type": "code",
   "execution_count": 1,
   "id": "501d6014",
   "metadata": {},
   "outputs": [],
   "source": [
    "import numpy as np\n",
    "import pandas as pd\n",
    "import matplotlib.pyplot as plt\n",
    "\n",
    "from sklearn.linear_model import LinearRegression\n",
    "from sklearn.metrics import mean_squared_error"
   ]
  },
  {
   "cell_type": "code",
   "execution_count": 2,
   "id": "fd47a981",
   "metadata": {},
   "outputs": [
    {
     "data": {
      "text/html": [
       "<div>\n",
       "<style scoped>\n",
       "    .dataframe tbody tr th:only-of-type {\n",
       "        vertical-align: middle;\n",
       "    }\n",
       "\n",
       "    .dataframe tbody tr th {\n",
       "        vertical-align: top;\n",
       "    }\n",
       "\n",
       "    .dataframe thead th {\n",
       "        text-align: right;\n",
       "    }\n",
       "</style>\n",
       "<table border=\"1\" class=\"dataframe\">\n",
       "  <thead>\n",
       "    <tr style=\"text-align: right;\">\n",
       "      <th></th>\n",
       "      <th>salary</th>\n",
       "      <th>experience</th>\n",
       "    </tr>\n",
       "  </thead>\n",
       "  <tbody>\n",
       "    <tr>\n",
       "      <th>0</th>\n",
       "      <td>1.7</td>\n",
       "      <td>1.2</td>\n",
       "    </tr>\n",
       "    <tr>\n",
       "      <th>1</th>\n",
       "      <td>2.4</td>\n",
       "      <td>1.5</td>\n",
       "    </tr>\n",
       "    <tr>\n",
       "      <th>2</th>\n",
       "      <td>2.3</td>\n",
       "      <td>1.9</td>\n",
       "    </tr>\n",
       "    <tr>\n",
       "      <th>3</th>\n",
       "      <td>3.1</td>\n",
       "      <td>2.2</td>\n",
       "    </tr>\n",
       "    <tr>\n",
       "      <th>4</th>\n",
       "      <td>3.7</td>\n",
       "      <td>2.4</td>\n",
       "    </tr>\n",
       "  </tbody>\n",
       "</table>\n",
       "</div>"
      ],
      "text/plain": [
       "   salary  experience\n",
       "0     1.7         1.2\n",
       "1     2.4         1.5\n",
       "2     2.3         1.9\n",
       "3     3.1         2.2\n",
       "4     3.7         2.4"
      ]
     },
     "execution_count": 2,
     "metadata": {},
     "output_type": "execute_result"
    }
   ],
   "source": [
    "data = pd.read_csv('salexpdata.csv')\n",
    "\n",
    "data.head()"
   ]
  },
  {
   "cell_type": "code",
   "execution_count": 3,
   "id": "daf45f82",
   "metadata": {},
   "outputs": [],
   "source": [
    "X_label, Y_label = data.columns[1], data.columns[0]"
   ]
  },
  {
   "cell_type": "code",
   "execution_count": 4,
   "id": "24f9723a",
   "metadata": {},
   "outputs": [
    {
     "data": {
      "image/png": "[encoded data removed]",
      "text/plain": [
       "<Figure size 432x288 with 1 Axes>"
      ]
     },
     "metadata": {
      "needs_background": "light"
     },
     "output_type": "display_data"
    }
   ],
   "source": [
    "plt.scatter(data[X_label], data[Y_label])\n",
    "plt.xlabel(X_label.capitalize())\n",
    "plt.ylabel(Y_label.capitalize())\n",
    "plt.title('Salary vs Experience')\n",
    "plt.show()"
   ]
  },
  {
   "cell_type": "code",
   "execution_count": 5,
   "id": "91e0a0f6",
   "metadata": {},
   "outputs": [],
   "source": [
    "X = data[X_label].values.reshape(-1, 1)\n",
    "Y = data[Y_label].values.reshape(-1, 1)"
   ]
  },
  {
   "cell_type": "code",
   "execution_count": 6,
   "id": "ad9cf5af",
   "metadata": {},
   "outputs": [
    {
     "data": {
      "text/plain": [
       "LinearRegression()"
      ]
     },
     "execution_count": 6,
     "metadata": {},
     "output_type": "execute_result"
    }
   ],
   "source": [
    "slr_model = LinearRegression()\n",
    "slr_model.fit(X, Y)"
   ]
  },
  {
   "cell_type": "code",
   "execution_count": 7,
   "id": "0ae60a62",
   "metadata": {
    "scrolled": true
   },
   "outputs": [
    {
     "name": "stdout",
     "output_type": "stream",
     "text": [
      "Linear Regression Line: -0.035638610947616556 + 1.567098293113596 * X\n"
     ]
    }
   ],
   "source": [
    "print(f'Linear Regression Line: {slr_model.intercept_[0]} + {slr_model.coef_[0][0]} * X')"
   ]
  },
  {
   "cell_type": "code",
   "execution_count": null,
   "id": "8134591f",
   "metadata": {},
   "outputs": [],
   "source": []
  },
  {
   "cell_type": "code",
   "execution_count": 8,
   "id": "6dae3d46",
   "metadata": {},
   "outputs": [],
   "source": [
    "X_test = np.linspace(X.min()-0.5, X.max()+0.5, 100).reshape(-1, 1)\n",
    "Y_test = slr_model.predict(X_test)"
   ]
  },
  {
   "cell_type": "code",
   "execution_count": 9,
   "id": "8e9002e6",
   "metadata": {},
   "outputs": [
    {
     "data": {
      "image/png": "[encoded data removed]",
      "text/plain": [
       "<Figure size 432x288 with 1 Axes>"
      ]
     },
     "metadata": {
      "needs_background": "light"
     },
     "output_type": "display_data"
    }
   ],
   "source": [
    "plt.scatter(X, Y, label='Actual Data')\n",
    "plt.plot(X_test, Y_test, '--', color='orange', label='Regression Line')\n",
    "plt.xlabel(X_label.capitalize())\n",
    "plt.ylabel(Y_label.capitalize())\n",
    "plt.title('Salary vs Experience')\n",
    "plt.legend()\n",
    "plt.show()"
   ]
  },
  {
   "cell_type": "code",
   "execution_count": null,
   "id": "486e9688",
   "metadata": {},
   "outputs": [],
   "source": []
  },
  {
   "cell_type": "code",
   "execution_count": 10,
   "id": "8feeea92",
   "metadata": {},
   "outputs": [],
   "source": [
    "def get_predictions(X, w, b):\n",
    "    return w * X + b\n",
    "\n",
    "def mean_squared_errors(Y_actual, Y_pred):\n",
    "    return np.sum((Y_actual - Y_pred) ** 2) / len(Y_actual)"
   ]
  },
  {
   "cell_type": "code",
   "execution_count": 11,
   "id": "77a10697",
   "metadata": {
    "scrolled": true
   },
   "outputs": [
    {
     "data": {
      "image/png": "[encoded data removed]",
      "text/plain": [
       "<Figure size 432x288 with 1 Axes>"
      ]
     },
     "metadata": {
      "needs_background": "light"
     },
     "output_type": "display_data"
    }
   ],
   "source": [
    "intercept = 1.1\n",
    "\n",
    "slopes = [0.1, 1.5, 0.8]\n",
    "mses = []\n",
    "\n",
    "for slope in slopes:\n",
    "    Y_pred = get_predictions(X, slope, intercept)\n",
    "    mses.append(mean_squared_errors(Y, Y_pred))\n",
    "\n",
    "plt.scatter(slopes, mses)\n",
    "plt.xlabel('Slope')\n",
    "plt.ylabel('MSE')\n",
    "plt.title('MSE vs Slope with Intercept Constant at 1.1')\n",
    "plt.show()"
   ]
  },
  {
   "cell_type": "code",
   "execution_count": null,
   "id": "a7be9e99",
   "metadata": {},
   "outputs": [],
   "source": []
  },
  {
   "cell_type": "code",
   "execution_count": 12,
   "id": "faf316cb",
   "metadata": {},
   "outputs": [
    {
     "data": {
      "image/png": "[encoded data removed]",
      "text/plain": [
       "<Figure size 432x288 with 1 Axes>"
      ]
     },
     "metadata": {
      "needs_background": "light"
     },
     "output_type": "display_data"
    }
   ],
   "source": [
    "intercept = 1.1\n",
    "\n",
    "slopes = np.linspace(0, 1.5, 100)\n",
    "mses = []\n",
    "\n",
    "for slope in slopes:\n",
    "    Y_pred = get_predictions(X, slope, intercept)\n",
    "    mses.append(mean_squared_errors(Y, Y_pred))\n",
    "    \n",
    "mses = np.array(mses)\n",
    "\n",
    "plt.plot(slopes, mses)\n",
    "plt.xlabel('Slope')\n",
    "plt.ylabel('MSE')\n",
    "plt.title('MSE vs Slope with Intercept Constant at 1.1')\n",
    "plt.show()"
   ]
  },
  {
   "cell_type": "code",
   "execution_count": null,
   "id": "c4ae2bfe",
   "metadata": {},
   "outputs": [],
   "source": []
  },
  {
   "cell_type": "code",
   "execution_count": 13,
   "id": "7ddfe008",
   "metadata": {},
   "outputs": [
    {
     "data": {
      "image/png": "[encoded data removed]",
      "text/plain": [
       "<Figure size 432x288 with 1 Axes>"
      ]
     },
     "metadata": {
      "needs_background": "light"
     },
     "output_type": "display_data"
    }
   ],
   "source": [
    "intercepts = np.linspace(-1, 2)\n",
    "\n",
    "slope = 1.3\n",
    "mses = []\n",
    "\n",
    "for intercept in intercepts:\n",
    "    Y_pred = get_predictions(X, slope, intercept)\n",
    "    mses.append(mean_squared_errors(Y, Y_pred))\n",
    "    \n",
    "mses = np.array(mses)\n",
    "\n",
    "plt.plot(intercepts, mses)\n",
    "plt.xlabel('Intercept')\n",
    "plt.ylabel('MSE')\n",
    "plt.title('MSE vs Intercept with Slope Constant at 1.3')\n",
    "plt.show()"
   ]
  },
  {
   "cell_type": "code",
   "execution_count": null,
   "id": "c79ce09a",
   "metadata": {},
   "outputs": [],
   "source": []
  },
  {
   "cell_type": "code",
   "execution_count": 14,
   "id": "6771a5fd",
   "metadata": {},
   "outputs": [
    {
     "name": "stdout",
     "output_type": "stream",
     "text": [
      "Mean Squared Error (SkLearn Function): 0.23366710810280558\n",
      "Mean Squared Error (My Function): 0.23366710810280558\n"
     ]
    }
   ],
   "source": [
    "Y_ = slr_model.predict(X)\n",
    "\n",
    "print(f'Mean Squared Error (SkLearn Function): {mean_squared_error(Y, Y_)}')\n",
    "print(f'Mean Squared Error (My Function): {mean_squared_errors(Y, Y_)}')"
   ]
  }
 ],
 "metadata": {
  "kernelspec": {
   "display_name": "Python 3 (ipykernel)",
   "language": "python",
   "name": "python3"
  },
  "language_info": {
   "codemirror_mode": {
    "name": "ipython",
    "version": 3
   },
   "file_extension": ".py",
   "mimetype": "text/x-python",
   "name": "python",
   "nbconvert_exporter": "python",
   "pygments_lexer": "ipython3",
   "version": "3.10.12"
  }
 },
 "nbformat": 4,
 "nbformat_minor": 5
}
